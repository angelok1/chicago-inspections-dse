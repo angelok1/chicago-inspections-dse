{
 "cells": [
  {
   "cell_type": "markdown",
   "metadata": {},
   "source": [
    "# Combined Data"
   ]
  },
  {
   "cell_type": "markdown",
   "metadata": {},
   "source": [
    "This notebook was loaded with:\n",
    "\n",
    "```bash\n",
    "PYSPARK_DRIVER_PYTHON=jupyter PYSPARK_DRIVER_PYTHON_OPTS=notebook ./dse/bin/dse pyspark --num-executors 5 --driver-memory 6g --executor-memory 6g\n",
    "```\n",
    "\n",
    "We've already done some exploration in the Exploration notebook. Now, we'll clean the data and load it into Cassandra for use in MLLib model building jobs later."
   ]
  },
  {
   "cell_type": "code",
   "execution_count": 1,
   "metadata": {
    "collapsed": false
   },
   "outputs": [
    {
     "name": "stdout",
     "output_type": "stream",
     "text": [
      "Populating the interactive namespace from numpy and matplotlib\n"
     ]
    }
   ],
   "source": [
    "%pylab inline "
   ]
  },
  {
   "cell_type": "code",
   "execution_count": 25,
   "metadata": {
    "collapsed": false
   },
   "outputs": [],
   "source": [
    "from pyspark.sql import Row\n",
    "from pyspark.sql.types import *\n",
    "from pyspark.sql.functions import count, datediff, lag, sum, coalesce, rank, lit, when,col, udf, to_date, year, mean, month, date_format, array\n",
    "from pyspark.sql.types import StructType, StructField, IntegerType, StringType, FloatType, DateType\n",
    "from pyspark.ml.feature import StringIndexer\n",
    "from datetime import datetime\n",
    "from pyspark.sql.window import Window\n",
    "import pyspark\n",
    "import matplotlib\n",
    "import matplotlib.pyplot as plt"
   ]
  },
  {
   "cell_type": "markdown",
   "metadata": {},
   "source": [
    "Now, we can start working with it... let's load it into the spark context"
   ]
  },
  {
   "cell_type": "code",
   "execution_count": 5,
   "metadata": {
    "collapsed": false
   },
   "outputs": [],
   "source": [
    "df_inspections = sqlContext.read.format(\"org.apache.spark.sql.cassandra\").\\\n",
    "               load(keyspace=\"chicago_data\", table=\"inspections\")"
   ]
  },
  {
   "cell_type": "code",
   "execution_count": 15,
   "metadata": {
    "collapsed": false
   },
   "outputs": [],
   "source": [
    "df_licenses = sqlContext.read.format(\"org.apache.spark.sql.cassandra\").\\\n",
    "               load(keyspace=\"chicago_data\", table=\"licenses\")\n",
    "    \n",
    "df_licenses = df_licenses.drop(\"latitude\")\n",
    "df_licenses = df_licenses.drop(\"longitude\")"
   ]
  },
  {
   "cell_type": "code",
   "execution_count": 16,
   "metadata": {
    "collapsed": true
   },
   "outputs": [],
   "source": [
    "df_joined = df_inspections.join(df_licenses, on=\"license_id\", how=\"left\")"
   ]
  },
  {
   "cell_type": "code",
   "execution_count": 17,
   "metadata": {
    "collapsed": false
   },
   "outputs": [
    {
     "data": {
      "text/plain": [
       "['license_id',\n",
       " 'inspection_dt',\n",
       " 'canvass',\n",
       " 'child',\n",
       " 'closeup',\n",
       " 'complaint',\n",
       " 'cumulative_failures',\n",
       " 'cumulative_inspections',\n",
       " 'days_since_last_inspection',\n",
       " 'ever_failed',\n",
       " 'inspection_date_string',\n",
       " 'inspection_type',\n",
       " 'inspection_type_descr',\n",
       " 'inspection_type_description',\n",
       " 'latitude',\n",
       " 'license',\n",
       " 'liquor',\n",
       " 'longitude',\n",
       " 'no_entry',\n",
       " 'prev_fail',\n",
       " 'proportion_past_failures',\n",
       " 'recent_inspection',\n",
       " 'reinspection',\n",
       " 'risk',\n",
       " 'risk_description',\n",
       " 'special_event',\n",
       " 'task_force',\n",
       " 'y',\n",
       " 'y_description',\n",
       " 'y_fail',\n",
       " 'zip',\n",
       " 'id',\n",
       " 'account_number',\n",
       " 'address',\n",
       " 'application_created_date',\n",
       " 'application_requirements_complete',\n",
       " 'application_type',\n",
       " 'business_activity',\n",
       " 'business_activity_id',\n",
       " 'conditional_approval',\n",
       " 'doing_business_as_name',\n",
       " 'legal_name',\n",
       " 'license_approved_for_issuance',\n",
       " 'license_code',\n",
       " 'license_description',\n",
       " 'license_number',\n",
       " 'license_status_change_date',\n",
       " 'license_term_expiration_date',\n",
       " 'license_term_start_date',\n",
       " 'payment_date',\n",
       " 'police_district',\n",
       " 'precinct',\n",
       " 'site_number',\n",
       " 'ssa',\n",
       " 'ward',\n",
       " 'zip']"
      ]
     },
     "execution_count": 17,
     "metadata": {},
     "output_type": "execute_result"
    }
   ],
   "source": [
    "df_joined.columns"
   ]
  },
  {
   "cell_type": "code",
   "execution_count": 38,
   "metadata": {
    "collapsed": false
   },
   "outputs": [],
   "source": [
    "# Group by\n",
    "#add a 1 to each record to that we can get a total number of inspections\n",
    "df_joined = df_joined.withColumn(\"inspected\", lit(1))\n",
    "\n",
    "#group the results\n",
    "group = df_joined.select(\"police_district\",\"y_fail\", \"inspected\").groupby('police_district') \\\n",
    "            .sum('y_fail', 'inspected') \\\n",
    "            .withColumn(\"prop\", col(\"sum(y_fail)\") / col(\"sum(inspected)\")) \\\n",
    "            .select(col(\"police_district\"), col(\"prop\")) \\\n",
    "            .orderBy(\"prop\", ascending=False)"
   ]
  },
  {
   "cell_type": "code",
   "execution_count": 40,
   "metadata": {
    "collapsed": false
   },
   "outputs": [
    {
     "data": {
      "text/plain": [
       "[Row(police_district=u'5', prop=0.3548387096774194),\n",
       " Row(police_district=u'15', prop=0.32075471698113206),\n",
       " Row(police_district=u'10', prop=0.3103448275862069),\n",
       " Row(police_district=u'12', prop=0.2638522427440633),\n",
       " Row(police_district=u'6', prop=0.24778761061946902)]"
      ]
     },
     "execution_count": 40,
     "metadata": {},
     "output_type": "execute_result"
    }
   ],
   "source": [
    "group.head(5)"
   ]
  },
  {
   "cell_type": "code",
   "execution_count": 42,
   "metadata": {
    "collapsed": false
   },
   "outputs": [
    {
     "data": {
      "image/png": "[encoded data removed]",
      "text/plain": [
       "<matplotlib.figure.Figure at 0x116eb2310>"
      ]
     },
     "metadata": {},
     "output_type": "display_data"
    }
   ],
   "source": [
    "my_grouping = group.toPandas()\n",
    "plt = my_grouping.plot(x=\"police_district\", y=\"prop\",kind='bar', color='darkred', alpha=0.6, edgecolor='white', title='Inspection failures by police districts', figsize=(18, 6))\n",
    "plt.grid()"
   ]
  },
  {
   "cell_type": "markdown",
   "metadata": {},
   "source": [
    "It's interesting that 5 leads the way, followed by 15 and 10. Districts 8, 11, and 25 lead the way in crime, but are about average in terms of failures."
   ]
  },
  {
   "cell_type": "code",
   "execution_count": 51,
   "metadata": {
    "collapsed": false
   },
   "outputs": [],
   "source": [
    " df_test.write\\\n",
    "    .format(\"org.apache.spark.sql.cassandra\")\\\n",
    "    .mode('append')\\\n",
    "    .options(table=\"inspections\", keyspace=\"chicago_data\")\\\n",
    "    .save()"
   ]
  },
  {
   "cell_type": "code",
   "execution_count": null,
   "metadata": {
    "collapsed": true
   },
   "outputs": [],
   "source": []
  }
 ],
 "metadata": {
  "anaconda-cloud": {},
  "kernelspec": {
   "display_name": "Python [conda root]",
   "language": "python",
   "name": "conda-root-py"
  },
  "language_info": {
   "codemirror_mode": {
    "name": "ipython",
    "version": 2
   },
   "file_extension": ".py",
   "mimetype": "text/x-python",
   "name": "python",
   "nbconvert_exporter": "python",
   "pygments_lexer": "ipython2",
   "version": "2.7.12"
  }
 },
 "nbformat": 4,
 "nbformat_minor": 1
}
