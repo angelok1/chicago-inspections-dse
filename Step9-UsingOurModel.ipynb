{
 "cells": [
  {
   "cell_type": "markdown",
   "metadata": {},
   "source": [
    "# Using our Model"
   ]
  },
  {
   "cell_type": "markdown",
   "metadata": {},
   "source": [
    "This notebook was loaded with:\n",
    "\n",
    "```bash\n",
    "PYSPARK_DRIVER_PYTHON=jupyter PYSPARK_DRIVER_PYTHON_OPTS=notebook ./dse/bin/dse pyspark --num-executors 5 --driver-memory 8g --executor-memory 8g\n",
    "```"
   ]
  },
  {
   "cell_type": "code",
   "execution_count": 1,
   "metadata": {
    "collapsed": false
   },
   "outputs": [
    {
     "name": "stdout",
     "output_type": "stream",
     "text": [
      "Populating the interactive namespace from numpy and matplotlib\n"
     ]
    }
   ],
   "source": [
    "%pylab inline "
   ]
  },
  {
   "cell_type": "code",
   "execution_count": 50,
   "metadata": {
    "collapsed": false
   },
   "outputs": [],
   "source": [
    "from pyspark.sql.functions import col\n",
    "from pyspark.ml.classification import  LogisticRegressionModel, GBTClassificationModel\n",
    "from pyspark.ml.feature import VectorIndexer, VectorAssembler, StringIndexer\n",
    "from pyspark.ml import Pipeline\n",
    "import pyspark\n",
    "\n",
    "from pyspark.mllib.evaluation import MulticlassMetrics, BinaryClassificationMetrics\n",
    "\n",
    "import seaborn as sns\n",
    "import matplotlib.pyplot as plt\n",
    "import pandas as pd\n",
    "import datetime"
   ]
  },
  {
   "cell_type": "markdown",
   "metadata": {},
   "source": [
    "# Testing how we did"
   ]
  },
  {
   "cell_type": "markdown",
   "metadata": {},
   "source": [
    "The last_60 set we set aside earlier is a simulation of how we would have done if we used the model to predict. let's load that."
   ]
  },
  {
   "cell_type": "code",
   "execution_count": 3,
   "metadata": {
    "collapsed": true
   },
   "outputs": [],
   "source": [
    "df = sqlContext.read.format('parquet').load('last_60_set')"
   ]
  },
  {
   "cell_type": "code",
   "execution_count": 4,
   "metadata": {
    "collapsed": false
   },
   "outputs": [
    {
     "data": {
      "text/plain": [
       "[('inspection_dt', 'date'),\n",
       " ('city_grid', 'int'),\n",
       " ('y', 'int'),\n",
       " ('y_fail', 'int'),\n",
       " ('canvass', 'int'),\n",
       " ('complaint', 'int'),\n",
       " ('cumulative_failures', 'int'),\n",
       " ('cumulative_inspections', 'int'),\n",
       " ('days_since_last_inspection', 'int'),\n",
       " ('ever_failed', 'int'),\n",
       " ('inspection_type', 'int'),\n",
       " ('license_related', 'int'),\n",
       " ('liquor', 'int'),\n",
       " ('prev_fail', 'int'),\n",
       " ('proportion_past_failures', 'double'),\n",
       " ('recent_inspection', 'int'),\n",
       " ('reinspection', 'int'),\n",
       " ('special_event', 'int'),\n",
       " ('task_force', 'int'),\n",
       " ('monthVec', 'vector'),\n",
       " ('weekdayVec', 'vector'),\n",
       " ('riskVec', 'vector'),\n",
       " ('wardVec', 'vector'),\n",
       " ('police_districtVec', 'vector'),\n",
       " ('conditional_approval', 'int'),\n",
       " ('crime_count_theft', 'bigint'),\n",
       " ('crime_count_burglary', 'bigint'),\n",
       " ('crime_count_other', 'bigint'),\n",
       " ('sanitation_violation_count', 'bigint'),\n",
       " ('TMAX', 'int'),\n",
       " ('TMIN', 'int'),\n",
       " ('TMAX_3', 'double'),\n",
       " ('TMAX_5', 'double')]"
      ]
     },
     "execution_count": 4,
     "metadata": {},
     "output_type": "execute_result"
    }
   ],
   "source": [
    "df.dtypes"
   ]
  },
  {
   "cell_type": "code",
   "execution_count": 5,
   "metadata": {
    "collapsed": true
   },
   "outputs": [],
   "source": [
    "df = df.drop(\"city_grid\").drop(\"y\")"
   ]
  },
  {
   "cell_type": "code",
   "execution_count": 6,
   "metadata": {
    "collapsed": false
   },
   "outputs": [
    {
     "data": {
      "text/plain": [
       "1265"
      ]
     },
     "execution_count": 6,
     "metadata": {},
     "output_type": "execute_result"
    }
   ],
   "source": [
    "df.count()"
   ]
  },
  {
   "cell_type": "markdown",
   "metadata": {},
   "source": [
    "# Preparing the  Model"
   ]
  },
  {
   "cell_type": "markdown",
   "metadata": {},
   "source": [
    "We've got a little work to do to get spark.ml to be able to process our data. First, we'll index the label (our actual pass/fail) that we're training on. This process is the same as before."
   ]
  },
  {
   "cell_type": "code",
   "execution_count": 7,
   "metadata": {
    "collapsed": false
   },
   "outputs": [],
   "source": [
    "labelIndexer = StringIndexer(inputCol=\"y_fail\", outputCol=\"label\")"
   ]
  },
  {
   "cell_type": "markdown",
   "metadata": {},
   "source": [
    "Next, we'll record our columns. We'll use one for the indexing the features. Remember when we one-hot encoded a few columns? We'll need another list of columns so that we can decode them back (the second array). We could broadcast these, but we'll keep it simple since this training is a one-time thing."
   ]
  },
  {
   "cell_type": "code",
   "execution_count": 8,
   "metadata": {
    "collapsed": true
   },
   "outputs": [],
   "source": [
    "#broadcast this?\n",
    "feature_cols = ['canvass',\n",
    " 'complaint',\n",
    " 'cumulative_failures',\n",
    " 'cumulative_inspections',\n",
    " 'days_since_last_inspection',\n",
    " 'ever_failed',\n",
    " 'inspection_type',\n",
    " 'license_related',\n",
    " 'liquor',\n",
    " 'prev_fail',\n",
    " 'proportion_past_failures',\n",
    " 'recent_inspection',\n",
    " 'reinspection',\n",
    " 'special_event',\n",
    " 'task_force',\n",
    " 'monthVec',\n",
    " 'weekdayVec',\n",
    " 'riskVec',\n",
    " 'conditional_approval',\n",
    " 'wardVec',\n",
    " 'police_districtVec',\n",
    " 'crime_count_theft',\n",
    " 'crime_count_burglary',\n",
    " 'crime_count_other',\n",
    " 'sanitation_violation_count',\n",
    " 'TMAX',\n",
    " 'TMIN',\n",
    " 'TMAX_3',\n",
    " 'TMAX_5']"
   ]
  },
  {
   "cell_type": "code",
   "execution_count": 9,
   "metadata": {
    "collapsed": true
   },
   "outputs": [],
   "source": [
    "full_feature_set = [\n",
    "   'canvass',\n",
    " 'complaint',\n",
    " 'cumulative_failures',\n",
    " 'cumulative_inspections',\n",
    " 'days_since_last_inspection',\n",
    " 'ever_failed',\n",
    " 'inspection_type',\n",
    " 'license_related',\n",
    " 'liquor',\n",
    " 'prev_fail',\n",
    " 'proportion_past_failures',\n",
    " 'recent_inspection',\n",
    " 'reinspection',\n",
    " 'special_event',\n",
    " 'task_force',\n",
    " 'month_jan','month_feb','month_march','month_april','month_may','month_june','month_july','month_august','month_sept','month_oct','month_nov','month_dec',\n",
    " 'weekday_mon','weekday_tues','weekday_weds','weekday_thurs','weekday_fri','weekday_sat',\n",
    " 'risk_high','risk_med','risk_low',\n",
    " 'conditional_approval',\n",
    " 'ward_1',\n",
    " 'ward_2',\n",
    " 'ward_3',\n",
    " 'ward_4',\n",
    " 'ward_5',\n",
    " 'ward_6',\n",
    " 'ward_7',\n",
    " 'ward_8',\n",
    " 'ward_9',\n",
    " 'ward_10',\n",
    " 'ward_11',\n",
    " 'ward_12',\n",
    " 'ward_13',\n",
    " 'ward_14',\n",
    " 'ward_15',\n",
    " 'ward_16',\n",
    " 'ward_17',\n",
    " 'ward_18',\n",
    " 'ward_19',\n",
    " 'ward_20',\n",
    " 'ward_21',\n",
    " 'ward_22',\n",
    " 'ward_23',\n",
    " 'ward_24',\n",
    " 'ward_25',\n",
    " 'ward_26',\n",
    " 'ward_27',\n",
    " 'ward_28',\n",
    " 'ward_29',\n",
    " 'ward_30',\n",
    " 'ward_31',\n",
    " 'ward_32',\n",
    " 'ward_33',\n",
    " 'ward_34',\n",
    " 'ward_35',\n",
    " 'ward_36',\n",
    " 'ward_37',\n",
    " 'ward_38',\n",
    " 'ward_39',\n",
    " 'ward_40',\n",
    " 'ward_41',\n",
    " 'ward_42',\n",
    " 'ward_43',\n",
    " 'ward_44',\n",
    " 'ward_45',\n",
    " 'ward_46',\n",
    " 'ward_47',\n",
    " 'ward_48',\n",
    " 'ward_49', 'ward_50','district_1',\n",
    " 'district_2',\n",
    " 'district_3',\n",
    " 'district_4',\n",
    " 'district_5',\n",
    " 'district_6',\n",
    " 'district_7',\n",
    " 'district_8',\n",
    " 'district_9',\n",
    " 'district_10',\n",
    " 'district_11',\n",
    " 'district_12',\n",
    " 'district_13',\n",
    " 'district_14',\n",
    " 'district_15',\n",
    " 'district_16',\n",
    " 'district_17',\n",
    " 'district_18',\n",
    " 'district_19',\n",
    " 'district_20',\n",
    " 'district_21',\n",
    " 'district_22',\n",
    " 'district_23',\n",
    " 'district_24', 'district_25',\n",
    " 'crime_count_theft',\n",
    " 'crime_count_burglary',\n",
    " 'crime_count_other',\n",
    " 'sanitation_violation_count',\n",
    " 'TMAX',\n",
    " 'TMIN',\n",
    " 'TMAX_3',\n",
    " 'TMAX_5' \n",
    "]"
   ]
  },
  {
   "cell_type": "markdown",
   "metadata": {
    "collapsed": false
   },
   "source": [
    "Now, we assemble our feature columns into a single Sparse Vector (https://spark.apache.org/docs/1.1.0/mllib-data-types.html)"
   ]
  },
  {
   "cell_type": "code",
   "execution_count": 11,
   "metadata": {
    "collapsed": false
   },
   "outputs": [],
   "source": [
    "featureAssembler = VectorAssembler(inputCols=feature_cols, outputCol='features')"
   ]
  },
  {
   "cell_type": "markdown",
   "metadata": {},
   "source": [
    "A pipeline is used to compose our functions. Remember that Spark doesn't execute these until an action is taken... that will be `fit` below"
   ]
  },
  {
   "cell_type": "code",
   "execution_count": 12,
   "metadata": {
    "collapsed": true
   },
   "outputs": [],
   "source": [
    "pipeline = Pipeline(stages=[featureAssembler, labelIndexer])"
   ]
  },
  {
   "cell_type": "code",
   "execution_count": 13,
   "metadata": {
    "collapsed": false
   },
   "outputs": [
    {
     "data": {
      "text/plain": [
       "DataFrame[inspection_dt: date, y_fail: int, canvass: int, complaint: int, cumulative_failures: int, cumulative_inspections: int, days_since_last_inspection: int, ever_failed: int, inspection_type: int, license_related: int, liquor: int, prev_fail: int, proportion_past_failures: double, recent_inspection: int, reinspection: int, special_event: int, task_force: int, monthVec: vector, weekdayVec: vector, riskVec: vector, wardVec: vector, police_districtVec: vector, conditional_approval: int, crime_count_theft: bigint, crime_count_burglary: bigint, crime_count_other: bigint, sanitation_violation_count: bigint, TMAX: int, TMIN: int, TMAX_3: double, TMAX_5: double, features: vector, label: double]"
      ]
     },
     "execution_count": 13,
     "metadata": {},
     "output_type": "execute_result"
    }
   ],
   "source": [
    "data = pipeline.fit(df).transform(df)\n",
    "data.cache()"
   ]
  },
  {
   "cell_type": "code",
   "execution_count": 21,
   "metadata": {
    "collapsed": true
   },
   "outputs": [],
   "source": [
    "def reportAccuracy(metrics):\n",
    "    print metrics.accuracy\n",
    "    matrix = metrics.confusionMatrix().toArray()\n",
    "    print matrix\n",
    "    plt.figure(figsize = (3,3))\n",
    "    sns.heatmap(matrix, annot=True, fmt=\"g\")\n",
    "    plt.xlabel(\"True\")\n",
    "    plt.ylabel(\"Predicted\")"
   ]
  },
  {
   "cell_type": "code",
   "execution_count": 19,
   "metadata": {
    "collapsed": false
   },
   "outputs": [],
   "source": [
    "def reportResults(rdd, model):\n",
    "    fig = plt.figure(figsize=(12, 4))\n",
    "    ax1 = plt.subplot2grid((1, 5), (0, 0), colspan=2)\n",
    "    ax2= plt.subplot2grid((1, 5), (0, 3), colspan=3)\n",
    "    \n",
    "    metrics = MulticlassMetrics(rdd)\n",
    "\n",
    "    print metrics.accuracy\n",
    "    matrix = metrics.confusionMatrix().toArray()\n",
    "    print matrix\n",
    "    \n",
    "    sns.heatmap(matrix, annot=True, fmt=\"g\", ax=ax1)\n",
    "    ax1.set_xlabel(\"True\")\n",
    "    ax1.set_ylabel(\"Predicted\")\n",
    "\n",
    "    # Include only the 10 most important predictors\n",
    "    df_importance = pd.DataFrame(model.featureImportances.toArray())\n",
    "    df_importance.columns = [\"importance\"]\n",
    "    df_importance[\"names\"] = full_feature_set\n",
    "    \n",
    "    df_importance.sort_values(\"importance\", ascending=False, inplace=True)\n",
    "    df_importance = df_importance.head(10)\n",
    "    ax2.barh(range(1,11),df_importance[\"importance\"],align='center', color = \"darkblue\", alpha = 0.6)\n",
    "    ax2.set_yticklabels(df_importance[\"names\"])\n",
    "    ax2.set_yticks(range(1,11))\n",
    "    ax2.set_xlabel('Relative Importance in the Model')\n",
    "    ax2.set_ylabel('Features')\n",
    "    ax2.set_title('Relative importance of Each Feature')"
   ]
  },
  {
   "cell_type": "markdown",
   "metadata": {},
   "source": [
    "# Logistic Regression"
   ]
  },
  {
   "cell_type": "markdown",
   "metadata": {},
   "source": [
    "The model still looks pretty good."
   ]
  },
  {
   "cell_type": "code",
   "execution_count": 16,
   "metadata": {
    "collapsed": false
   },
   "outputs": [],
   "source": [
    "model = LogisticRegressionModel.load(\"final_model_lr\")"
   ]
  },
  {
   "cell_type": "code",
   "execution_count": 17,
   "metadata": {
    "collapsed": false
   },
   "outputs": [],
   "source": [
    "predictions_lr = model.transform(data)"
   ]
  },
  {
   "cell_type": "code",
   "execution_count": 22,
   "metadata": {
    "collapsed": false
   },
   "outputs": [
    {
     "name": "stdout",
     "output_type": "stream",
     "text": [
      "0.8395256917\n",
      "[[ 976.    7.]\n",
      " [ 196.   86.]]\n"
     ]
    },
    {
     "data": {
      "image/png": "[encoded data removed]",
      "text/plain": [
       "<matplotlib.figure.Figure at 0x1170b6790>"
      ]
     },
     "metadata": {},
     "output_type": "display_data"
    }
   ],
   "source": [
    "metrics = MulticlassMetrics(predictions_lr.select(\"prediction\", \"label\").rdd)\n",
    "reportAccuracy(metrics)"
   ]
  },
  {
   "cell_type": "markdown",
   "metadata": {},
   "source": [
    "# Gradient Boosted Trees"
   ]
  },
  {
   "cell_type": "markdown",
   "metadata": {},
   "source": [
    "For fun, let's see how the GBT did.."
   ]
  },
  {
   "cell_type": "code",
   "execution_count": 23,
   "metadata": {
    "collapsed": false
   },
   "outputs": [],
   "source": [
    "gbt = GBTClassificationModel.load(\"final_model\")"
   ]
  },
  {
   "cell_type": "code",
   "execution_count": 24,
   "metadata": {
    "collapsed": false
   },
   "outputs": [
    {
     "name": "stdout",
     "output_type": "stream",
     "text": [
      "0.873517786561\n",
      "[[ 950.   33.]\n",
      " [ 127.  155.]]\n"
     ]
    },
    {
     "data": {
      "image/png": "[encoded data removed]",
      "text/plain": [
       "<matplotlib.figure.Figure at 0x1176a52d0>"
      ]
     },
     "metadata": {},
     "output_type": "display_data"
    }
   ],
   "source": [
    "predictions_gbt = gbt.transform(data)\n",
    "reportResults(predictions_gbt.select(\"prediction\", \"label\").rdd, gbt)"
   ]
  },
  {
   "cell_type": "markdown",
   "metadata": {},
   "source": [
    "# Comparing and Preparing inspections"
   ]
  },
  {
   "cell_type": "markdown",
   "metadata": {},
   "source": [
    "I still like logistic regression better. Let's create an inspection list and score them properly. We'll sort them and use 2 metrics.\n",
    "\n",
    "- How many days on average fails were caught sooner\n",
    "- How many were caught in the first month (that way the averages won't hide outliers)."
   ]
  },
  {
   "cell_type": "code",
   "execution_count": 25,
   "metadata": {
    "collapsed": true
   },
   "outputs": [],
   "source": [
    "def score_delta_days(predicted):\n",
    "    deltas = (predicted.assigned_dt - predicted.inspection_dt).dt.days\n",
    "    return np.mean(deltas)"
   ]
  },
  {
   "cell_type": "code",
   "execution_count": 62,
   "metadata": {
    "collapsed": false
   },
   "outputs": [],
   "source": [
    "\n",
    "#this will sort by proba 0, then assign in order by max per day inspections\n",
    "#the average in the actual set was 30/day. We'll go with that as capacity.\n",
    "def assign_lr(df1):\n",
    "    capacity = 30\n",
    "    \n",
    "    df1[\"probability_y_1\"] = df1[\"probability\"].str[1]\n",
    "\n",
    "    df_sorted = df1.sort_values(by='probability_y_1', ascending=[0])\n",
    "    \n",
    "    dates = []\n",
    "\n",
    "    for o in range(736208,736269): #ordinals for 9/1 to 10/31\n",
    "        dates.append(datetime.date.fromordinal(o))\n",
    "    \n",
    "    j=0\n",
    "    k=0\n",
    "    for i,item in df_sorted.iterrows():\n",
    "        df_sorted.ix[i, \"assigned_dt\"] = dates[k]\n",
    "    \n",
    "        j = j+1\n",
    "    \n",
    "        if j > 30: #max allowed per day\n",
    "            j = 1 #reset the counter\n",
    "\n",
    "            if k < len(dates) - 1:\n",
    "                k = k + 1 #move to next day\n",
    "    \n",
    "    df_sorted[\"assigned_dt\"] = df_sorted[\"assigned_dt\"].astype('datetime64[ns]')\n",
    "    return df_sorted"
   ]
  },
  {
   "cell_type": "code",
   "execution_count": 66,
   "metadata": {
    "collapsed": true
   },
   "outputs": [],
   "source": [
    "\n",
    "#this will sort by proba 0, then assign in order by max per day inspections\n",
    "#the average in the actual set was 30/day. We'll go with that as capacity.\n",
    "def assign_tree(df1):\n",
    "    capacity = 30\n",
    "    df_sorted = df1.sort_values(by='proportion_past_failures', ascending=[0])\n",
    "    \n",
    "    dates = []\n",
    "\n",
    "    for o in range(736208,736269): #ordinals for 9/1 to 10/31\n",
    "        dates.append(datetime.date.fromordinal(o))\n",
    "    \n",
    "    j=0\n",
    "    k=0\n",
    "    for i,item in df_sorted.iterrows():\n",
    "        df_sorted.ix[i, \"assigned_dt\"] = dates[k]\n",
    "    \n",
    "        j = j+1\n",
    "    \n",
    "        if j > 30: #max allowed per day\n",
    "            j = 1 #reset the counter\n",
    "\n",
    "            if k < len(dates) - 1:\n",
    "                k = k + 1 #move to next day\n",
    "    \n",
    "    df_sorted[\"assigned_dt\"] = df_sorted[\"assigned_dt\"].astype('datetime64[ns]')\n",
    "    return df_sorted"
   ]
  },
  {
   "cell_type": "code",
   "execution_count": 52,
   "metadata": {
    "collapsed": false
   },
   "outputs": [],
   "source": [
    "#predictions_lr.withColumn(\"prob_y_1\", col(\"probability\")[1])"
   ]
  },
  {
   "cell_type": "code",
   "execution_count": 63,
   "metadata": {
    "collapsed": false
   },
   "outputs": [],
   "source": [
    "assigned_lr = assign_lr(predictions_lr.toPandas())"
   ]
  },
  {
   "cell_type": "code",
   "execution_count": 67,
   "metadata": {
    "collapsed": false
   },
   "outputs": [],
   "source": [
    "assigned_tree = assign_tree(predictions_gbt.toPandas())"
   ]
  },
  {
   "cell_type": "code",
   "execution_count": 69,
   "metadata": {
    "collapsed": false
   },
   "outputs": [],
   "source": [
    "assigned_tree[\"inspection_dt\"] = assigned_tree[\"inspection_dt\"].astype('datetime64[ns]')\n",
    "assigned_lr[\"inspection_dt\"] = assigned_lr[\"inspection_dt\"].astype('datetime64[ns]')"
   ]
  },
  {
   "cell_type": "code",
   "execution_count": 70,
   "metadata": {
    "collapsed": false
   },
   "outputs": [],
   "source": [
    "tree_score1 = score_delta_days(assigned_tree)"
   ]
  },
  {
   "cell_type": "code",
   "execution_count": 71,
   "metadata": {
    "collapsed": true
   },
   "outputs": [],
   "source": [
    "lr_score1 = score_delta_days(assigned_lr)"
   ]
  },
  {
   "cell_type": "code",
   "execution_count": 79,
   "metadata": {
    "collapsed": false
   },
   "outputs": [
    {
     "name": "stdout",
     "output_type": "stream",
     "text": [
      "Number of days failures caught earlier (on average) than current process.\n",
      "LR -5.46, GBT -5.46\n"
     ]
    }
   ],
   "source": [
    "print \"Number of days failures caught earlier (on average) than current process.\"\n",
    "print \"LR %.2f, GBT %.2f\" % (lr_score1, tree_score1)"
   ]
  },
  {
   "cell_type": "code",
   "execution_count": 80,
   "metadata": {
    "collapsed": true
   },
   "outputs": [],
   "source": [
    "#Another way to measure is the proportion of actual \n",
    "#failures caught in the first 30 days\n",
    "def score_prop_first(predicted):    \n",
    "    predicted_first_month = predicted[predicted.assigned_dt.dt.month == 9]\n",
    "    \n",
    "    overlap = predicted_first_month[predicted_first_month[\"y_fail\"] == 1][\"y_fail\"].count()\n",
    "\n",
    "    return overlap/float(predicted.shape[0])"
   ]
  },
  {
   "cell_type": "code",
   "execution_count": 81,
   "metadata": {
    "collapsed": false
   },
   "outputs": [],
   "source": [
    "tree_score2 = score_prop_first(assigned_tree)"
   ]
  },
  {
   "cell_type": "code",
   "execution_count": 82,
   "metadata": {
    "collapsed": true
   },
   "outputs": [],
   "source": [
    "lr_score2 = score_prop_first(assigned_lr)"
   ]
  },
  {
   "cell_type": "code",
   "execution_count": 84,
   "metadata": {
    "collapsed": false
   },
   "outputs": [
    {
     "name": "stdout",
     "output_type": "stream",
     "text": [
      "Proportion Caught in the first 1/2 of the inspection cycle\n",
      "LR 0.22, TREE 0.22\n"
     ]
    }
   ],
   "source": [
    "print \"Proportion Caught in the first 1/2 of the inspection cycle\"\n",
    "print \"LR %.2f, TREE %.2f\" % (lr_score2, tree_score2)"
   ]
  },
  {
   "cell_type": "code",
   "execution_count": 85,
   "metadata": {
    "collapsed": true
   },
   "outputs": [],
   "source": [
    "df_score1 = pd.DataFrame()\n",
    "df_score1[\"Scores\"] = [lr_score1, tree_score1]\n",
    "df_score1[\"Models\"] = ['LR', 'GBT']"
   ]
  },
  {
   "cell_type": "code",
   "execution_count": 86,
   "metadata": {
    "collapsed": false
   },
   "outputs": [
    {
     "data": {
      "text/plain": [
       "<matplotlib.text.Text at 0x119131290>"
      ]
     },
     "execution_count": 86,
     "metadata": {},
     "output_type": "execute_result"
    },
    {
     "data": {
      "image/png": "[encoded data removed]",
      "text/plain": [
       "<matplotlib.figure.Figure at 0x117c2a1d0>"
      ]
     },
     "metadata": {},
     "output_type": "display_data"
    }
   ],
   "source": [
    "\n",
    "sns.set_style(\"whitegrid\")\n",
    "ax = sns.barplot(x=\"Scores\", y=\"Models\", data=df_score1)\n",
    "ax.set(xlabel=\"Avg Improvement (days)\", ylabel=\"Models\")\n",
    "ax.set_title(\"Model Performance Compared to Current Inspection Process\")"
   ]
  },
  {
   "cell_type": "markdown",
   "metadata": {},
   "source": [
    "Hm. Exactly the same. let's see the other score."
   ]
  },
  {
   "cell_type": "code",
   "execution_count": 87,
   "metadata": {
    "collapsed": true
   },
   "outputs": [],
   "source": [
    "df_score2 = pd.DataFrame()\n",
    "df_score2[\"Scores\"] = [lr_score2, tree_score2]\n",
    "df_score2[\"Models\"] = ['LR', 'GBT']"
   ]
  },
  {
   "cell_type": "code",
   "execution_count": 88,
   "metadata": {
    "collapsed": false
   },
   "outputs": [
    {
     "data": {
      "image/png": "[encoded data removed]",
      "text/plain": [
       "<matplotlib.figure.Figure at 0x118d97150>"
      ]
     },
     "metadata": {},
     "output_type": "display_data"
    }
   ],
   "source": [
    "sns.set_style(\"whitegrid\")\n",
    "ax = sns.barplot(x=\"Scores\", y=\"Models\", data=df_score2)\n",
    "ax.set(xlabel=\"Proportion\", ylabel=\"Models\")\n",
    "ax.set_title(\"Proportion of Failures Caught in First Half of Inspection Cycle\")\n",
    "\n",
    "for n, (_x, label) in enumerate(zip(df_score2[\"Scores\"], df_score2[\"Models\"])):\n",
    "    ax.annotate(\n",
    "        s='{:.4f}'.format(abs(_x)),\n",
    "        xy=(_x - .05, n + .2),\n",
    "        ha='center',va='center',\n",
    "        xytext=(0,10),\n",
    "        color='white',\n",
    "        textcoords='offset points',\n",
    "        weight='bold'\n",
    "    )"
   ]
  },
  {
   "cell_type": "markdown",
   "metadata": {},
   "source": [
    "ok! Well, what can we say? Both models performed about the same in practicality. While one predicted certain values better than the other, in reality, they both had about the same practical predictive power on this unseen set. What are the odds? It does make some sense in that if previous failures played a strong role in both models, they would both be primarily driven by them. Ultimately, we're not terribly conclusive... we'll need to keep looking at how it goes in subsequent months."
   ]
  },
  {
   "cell_type": "code",
   "execution_count": 89,
   "metadata": {
    "collapsed": false
   },
   "outputs": [
    {
     "data": {
      "text/html": [
       "<div>\n",
       "<table border=\"1\" class=\"dataframe\">\n",
       "  <thead>\n",
       "    <tr style=\"text-align: right;\">\n",
       "      <th></th>\n",
       "      <th>inspection_dt</th>\n",
       "      <th>y_fail</th>\n",
       "      <th>canvass</th>\n",
       "      <th>complaint</th>\n",
       "      <th>cumulative_failures</th>\n",
       "      <th>cumulative_inspections</th>\n",
       "      <th>days_since_last_inspection</th>\n",
       "      <th>ever_failed</th>\n",
       "      <th>inspection_type</th>\n",
       "      <th>license_related</th>\n",
       "      <th>...</th>\n",
       "      <th>TMIN</th>\n",
       "      <th>TMAX_3</th>\n",
       "      <th>TMAX_5</th>\n",
       "      <th>features</th>\n",
       "      <th>label</th>\n",
       "      <th>rawPrediction</th>\n",
       "      <th>probability</th>\n",
       "      <th>prediction</th>\n",
       "      <th>probability_y_1</th>\n",
       "      <th>assigned_dt</th>\n",
       "    </tr>\n",
       "  </thead>\n",
       "  <tbody>\n",
       "    <tr>\n",
       "      <th>175</th>\n",
       "      <td>2016-10-18</td>\n",
       "      <td>1</td>\n",
       "      <td>0</td>\n",
       "      <td>0</td>\n",
       "      <td>1</td>\n",
       "      <td>1</td>\n",
       "      <td>0</td>\n",
       "      <td>1</td>\n",
       "      <td>2</td>\n",
       "      <td>1</td>\n",
       "      <td>...</td>\n",
       "      <td>60</td>\n",
       "      <td>69.75</td>\n",
       "      <td>66.833333</td>\n",
       "      <td>(0.0, 0.0, 1.0, 1.0, 0.0, 1.0, 2.0, 1.0, 0.0, ...</td>\n",
       "      <td>1.0</td>\n",
       "      <td>[-0.334770336642, 0.334770336642]</td>\n",
       "      <td>[0.417080381487, 0.582919618513]</td>\n",
       "      <td>1.0</td>\n",
       "      <td>0.58292</td>\n",
       "      <td>2016-09-01</td>\n",
       "    </tr>\n",
       "    <tr>\n",
       "      <th>66</th>\n",
       "      <td>2016-09-20</td>\n",
       "      <td>1</td>\n",
       "      <td>0</td>\n",
       "      <td>0</td>\n",
       "      <td>1</td>\n",
       "      <td>1</td>\n",
       "      <td>0</td>\n",
       "      <td>1</td>\n",
       "      <td>2</td>\n",
       "      <td>1</td>\n",
       "      <td>...</td>\n",
       "      <td>67</td>\n",
       "      <td>79.75</td>\n",
       "      <td>79.000000</td>\n",
       "      <td>(0.0, 0.0, 1.0, 1.0, 0.0, 1.0, 2.0, 1.0, 0.0, ...</td>\n",
       "      <td>1.0</td>\n",
       "      <td>[-0.334770336642, 0.334770336642]</td>\n",
       "      <td>[0.417080381487, 0.582919618513]</td>\n",
       "      <td>1.0</td>\n",
       "      <td>0.58292</td>\n",
       "      <td>2016-09-01</td>\n",
       "    </tr>\n",
       "    <tr>\n",
       "      <th>705</th>\n",
       "      <td>2016-09-27</td>\n",
       "      <td>1</td>\n",
       "      <td>0</td>\n",
       "      <td>0</td>\n",
       "      <td>1</td>\n",
       "      <td>1</td>\n",
       "      <td>0</td>\n",
       "      <td>1</td>\n",
       "      <td>2</td>\n",
       "      <td>1</td>\n",
       "      <td>...</td>\n",
       "      <td>55</td>\n",
       "      <td>74.00</td>\n",
       "      <td>75.500000</td>\n",
       "      <td>(0.0, 0.0, 1.0, 1.0, 0.0, 1.0, 2.0, 1.0, 0.0, ...</td>\n",
       "      <td>1.0</td>\n",
       "      <td>[-0.334770336642, 0.334770336642]</td>\n",
       "      <td>[0.417080381487, 0.582919618513]</td>\n",
       "      <td>1.0</td>\n",
       "      <td>0.58292</td>\n",
       "      <td>2016-09-01</td>\n",
       "    </tr>\n",
       "    <tr>\n",
       "      <th>926</th>\n",
       "      <td>2016-09-01</td>\n",
       "      <td>1</td>\n",
       "      <td>0</td>\n",
       "      <td>0</td>\n",
       "      <td>1</td>\n",
       "      <td>1</td>\n",
       "      <td>0</td>\n",
       "      <td>1</td>\n",
       "      <td>2</td>\n",
       "      <td>1</td>\n",
       "      <td>...</td>\n",
       "      <td>63</td>\n",
       "      <td>78.25</td>\n",
       "      <td>79.333333</td>\n",
       "      <td>(0.0, 0.0, 1.0, 1.0, 0.0, 1.0, 2.0, 1.0, 0.0, ...</td>\n",
       "      <td>1.0</td>\n",
       "      <td>[-0.334770336642, 0.334770336642]</td>\n",
       "      <td>[0.417080381487, 0.582919618513]</td>\n",
       "      <td>1.0</td>\n",
       "      <td>0.58292</td>\n",
       "      <td>2016-09-01</td>\n",
       "    </tr>\n",
       "    <tr>\n",
       "      <th>925</th>\n",
       "      <td>2016-09-01</td>\n",
       "      <td>1</td>\n",
       "      <td>0</td>\n",
       "      <td>0</td>\n",
       "      <td>1</td>\n",
       "      <td>1</td>\n",
       "      <td>0</td>\n",
       "      <td>1</td>\n",
       "      <td>2</td>\n",
       "      <td>1</td>\n",
       "      <td>...</td>\n",
       "      <td>63</td>\n",
       "      <td>78.25</td>\n",
       "      <td>79.333333</td>\n",
       "      <td>(0.0, 0.0, 1.0, 1.0, 0.0, 1.0, 2.0, 1.0, 0.0, ...</td>\n",
       "      <td>1.0</td>\n",
       "      <td>[-0.334770336642, 0.334770336642]</td>\n",
       "      <td>[0.417080381487, 0.582919618513]</td>\n",
       "      <td>1.0</td>\n",
       "      <td>0.58292</td>\n",
       "      <td>2016-09-01</td>\n",
       "    </tr>\n",
       "  </tbody>\n",
       "</table>\n",
       "<p>5 rows × 38 columns</p>\n",
       "</div>"
      ],
      "text/plain": [
       "    inspection_dt  y_fail  canvass  complaint  cumulative_failures  \\\n",
       "175    2016-10-18       1        0          0                    1   \n",
       "66     2016-09-20       1        0          0                    1   \n",
       "705    2016-09-27       1        0          0                    1   \n",
       "926    2016-09-01       1        0          0                    1   \n",
       "925    2016-09-01       1        0          0                    1   \n",
       "\n",
       "     cumulative_inspections  days_since_last_inspection  ever_failed  \\\n",
       "175                       1                           0            1   \n",
       "66                        1                           0            1   \n",
       "705                       1                           0            1   \n",
       "926                       1                           0            1   \n",
       "925                       1                           0            1   \n",
       "\n",
       "     inspection_type  license_related     ...      TMIN  TMAX_3     TMAX_5  \\\n",
       "175                2                1     ...        60   69.75  66.833333   \n",
       "66                 2                1     ...        67   79.75  79.000000   \n",
       "705                2                1     ...        55   74.00  75.500000   \n",
       "926                2                1     ...        63   78.25  79.333333   \n",
       "925                2                1     ...        63   78.25  79.333333   \n",
       "\n",
       "                                              features  label  \\\n",
       "175  (0.0, 0.0, 1.0, 1.0, 0.0, 1.0, 2.0, 1.0, 0.0, ...    1.0   \n",
       "66   (0.0, 0.0, 1.0, 1.0, 0.0, 1.0, 2.0, 1.0, 0.0, ...    1.0   \n",
       "705  (0.0, 0.0, 1.0, 1.0, 0.0, 1.0, 2.0, 1.0, 0.0, ...    1.0   \n",
       "926  (0.0, 0.0, 1.0, 1.0, 0.0, 1.0, 2.0, 1.0, 0.0, ...    1.0   \n",
       "925  (0.0, 0.0, 1.0, 1.0, 0.0, 1.0, 2.0, 1.0, 0.0, ...    1.0   \n",
       "\n",
       "                         rawPrediction                       probability  \\\n",
       "175  [-0.334770336642, 0.334770336642]  [0.417080381487, 0.582919618513]   \n",
       "66   [-0.334770336642, 0.334770336642]  [0.417080381487, 0.582919618513]   \n",
       "705  [-0.334770336642, 0.334770336642]  [0.417080381487, 0.582919618513]   \n",
       "926  [-0.334770336642, 0.334770336642]  [0.417080381487, 0.582919618513]   \n",
       "925  [-0.334770336642, 0.334770336642]  [0.417080381487, 0.582919618513]   \n",
       "\n",
       "    prediction probability_y_1 assigned_dt  \n",
       "175        1.0         0.58292  2016-09-01  \n",
       "66         1.0         0.58292  2016-09-01  \n",
       "705        1.0         0.58292  2016-09-01  \n",
       "926        1.0         0.58292  2016-09-01  \n",
       "925        1.0         0.58292  2016-09-01  \n",
       "\n",
       "[5 rows x 38 columns]"
      ]
     },
     "execution_count": 89,
     "metadata": {},
     "output_type": "execute_result"
    }
   ],
   "source": [
    "assigned_lr.head()"
   ]
  },
  {
   "cell_type": "code",
   "execution_count": 90,
   "metadata": {
    "collapsed": false
   },
   "outputs": [
    {
     "data": {
      "text/html": [
       "<div>\n",
       "<table border=\"1\" class=\"dataframe\">\n",
       "  <thead>\n",
       "    <tr style=\"text-align: right;\">\n",
       "      <th></th>\n",
       "      <th>inspection_dt</th>\n",
       "      <th>y_fail</th>\n",
       "      <th>canvass</th>\n",
       "      <th>complaint</th>\n",
       "      <th>cumulative_failures</th>\n",
       "      <th>cumulative_inspections</th>\n",
       "      <th>days_since_last_inspection</th>\n",
       "      <th>ever_failed</th>\n",
       "      <th>inspection_type</th>\n",
       "      <th>license_related</th>\n",
       "      <th>...</th>\n",
       "      <th>crime_count_other</th>\n",
       "      <th>sanitation_violation_count</th>\n",
       "      <th>TMAX</th>\n",
       "      <th>TMIN</th>\n",
       "      <th>TMAX_3</th>\n",
       "      <th>TMAX_5</th>\n",
       "      <th>features</th>\n",
       "      <th>label</th>\n",
       "      <th>prediction</th>\n",
       "      <th>assigned_dt</th>\n",
       "    </tr>\n",
       "  </thead>\n",
       "  <tbody>\n",
       "    <tr>\n",
       "      <th>175</th>\n",
       "      <td>2016-10-18</td>\n",
       "      <td>1</td>\n",
       "      <td>0</td>\n",
       "      <td>0</td>\n",
       "      <td>1</td>\n",
       "      <td>1</td>\n",
       "      <td>0</td>\n",
       "      <td>1</td>\n",
       "      <td>2</td>\n",
       "      <td>1</td>\n",
       "      <td>...</td>\n",
       "      <td>3559</td>\n",
       "      <td>694</td>\n",
       "      <td>76</td>\n",
       "      <td>60</td>\n",
       "      <td>69.75</td>\n",
       "      <td>66.833333</td>\n",
       "      <td>(0.0, 0.0, 1.0, 1.0, 0.0, 1.0, 2.0, 1.0, 0.0, ...</td>\n",
       "      <td>1.0</td>\n",
       "      <td>1.0</td>\n",
       "      <td>2016-09-01</td>\n",
       "    </tr>\n",
       "    <tr>\n",
       "      <th>66</th>\n",
       "      <td>2016-09-20</td>\n",
       "      <td>1</td>\n",
       "      <td>0</td>\n",
       "      <td>0</td>\n",
       "      <td>1</td>\n",
       "      <td>1</td>\n",
       "      <td>0</td>\n",
       "      <td>1</td>\n",
       "      <td>2</td>\n",
       "      <td>1</td>\n",
       "      <td>...</td>\n",
       "      <td>63347</td>\n",
       "      <td>8000</td>\n",
       "      <td>77</td>\n",
       "      <td>67</td>\n",
       "      <td>79.75</td>\n",
       "      <td>79.000000</td>\n",
       "      <td>(0.0, 0.0, 1.0, 1.0, 0.0, 1.0, 2.0, 1.0, 0.0, ...</td>\n",
       "      <td>1.0</td>\n",
       "      <td>1.0</td>\n",
       "      <td>2016-09-01</td>\n",
       "    </tr>\n",
       "    <tr>\n",
       "      <th>705</th>\n",
       "      <td>2016-09-27</td>\n",
       "      <td>1</td>\n",
       "      <td>0</td>\n",
       "      <td>0</td>\n",
       "      <td>1</td>\n",
       "      <td>1</td>\n",
       "      <td>0</td>\n",
       "      <td>1</td>\n",
       "      <td>2</td>\n",
       "      <td>1</td>\n",
       "      <td>...</td>\n",
       "      <td>35715</td>\n",
       "      <td>3363</td>\n",
       "      <td>70</td>\n",
       "      <td>55</td>\n",
       "      <td>74.00</td>\n",
       "      <td>75.500000</td>\n",
       "      <td>(0.0, 0.0, 1.0, 1.0, 0.0, 1.0, 2.0, 1.0, 0.0, ...</td>\n",
       "      <td>1.0</td>\n",
       "      <td>1.0</td>\n",
       "      <td>2016-09-01</td>\n",
       "    </tr>\n",
       "    <tr>\n",
       "      <th>926</th>\n",
       "      <td>2016-09-01</td>\n",
       "      <td>1</td>\n",
       "      <td>0</td>\n",
       "      <td>0</td>\n",
       "      <td>1</td>\n",
       "      <td>1</td>\n",
       "      <td>0</td>\n",
       "      <td>1</td>\n",
       "      <td>2</td>\n",
       "      <td>1</td>\n",
       "      <td>...</td>\n",
       "      <td>38993</td>\n",
       "      <td>4060</td>\n",
       "      <td>73</td>\n",
       "      <td>63</td>\n",
       "      <td>78.25</td>\n",
       "      <td>79.333333</td>\n",
       "      <td>(0.0, 0.0, 1.0, 1.0, 0.0, 1.0, 2.0, 1.0, 0.0, ...</td>\n",
       "      <td>1.0</td>\n",
       "      <td>1.0</td>\n",
       "      <td>2016-09-01</td>\n",
       "    </tr>\n",
       "    <tr>\n",
       "      <th>925</th>\n",
       "      <td>2016-09-01</td>\n",
       "      <td>1</td>\n",
       "      <td>0</td>\n",
       "      <td>0</td>\n",
       "      <td>1</td>\n",
       "      <td>1</td>\n",
       "      <td>0</td>\n",
       "      <td>1</td>\n",
       "      <td>2</td>\n",
       "      <td>1</td>\n",
       "      <td>...</td>\n",
       "      <td>38993</td>\n",
       "      <td>4060</td>\n",
       "      <td>73</td>\n",
       "      <td>63</td>\n",
       "      <td>78.25</td>\n",
       "      <td>79.333333</td>\n",
       "      <td>(0.0, 0.0, 1.0, 1.0, 0.0, 1.0, 2.0, 1.0, 0.0, ...</td>\n",
       "      <td>1.0</td>\n",
       "      <td>1.0</td>\n",
       "      <td>2016-09-01</td>\n",
       "    </tr>\n",
       "  </tbody>\n",
       "</table>\n",
       "<p>5 rows × 35 columns</p>\n",
       "</div>"
      ],
      "text/plain": [
       "    inspection_dt  y_fail  canvass  complaint  cumulative_failures  \\\n",
       "175    2016-10-18       1        0          0                    1   \n",
       "66     2016-09-20       1        0          0                    1   \n",
       "705    2016-09-27       1        0          0                    1   \n",
       "926    2016-09-01       1        0          0                    1   \n",
       "925    2016-09-01       1        0          0                    1   \n",
       "\n",
       "     cumulative_inspections  days_since_last_inspection  ever_failed  \\\n",
       "175                       1                           0            1   \n",
       "66                        1                           0            1   \n",
       "705                       1                           0            1   \n",
       "926                       1                           0            1   \n",
       "925                       1                           0            1   \n",
       "\n",
       "     inspection_type  license_related     ...      crime_count_other  \\\n",
       "175                2                1     ...                   3559   \n",
       "66                 2                1     ...                  63347   \n",
       "705                2                1     ...                  35715   \n",
       "926                2                1     ...                  38993   \n",
       "925                2                1     ...                  38993   \n",
       "\n",
       "     sanitation_violation_count  TMAX  TMIN  TMAX_3     TMAX_5  \\\n",
       "175                         694    76    60   69.75  66.833333   \n",
       "66                         8000    77    67   79.75  79.000000   \n",
       "705                        3363    70    55   74.00  75.500000   \n",
       "926                        4060    73    63   78.25  79.333333   \n",
       "925                        4060    73    63   78.25  79.333333   \n",
       "\n",
       "                                              features label prediction  \\\n",
       "175  (0.0, 0.0, 1.0, 1.0, 0.0, 1.0, 2.0, 1.0, 0.0, ...   1.0        1.0   \n",
       "66   (0.0, 0.0, 1.0, 1.0, 0.0, 1.0, 2.0, 1.0, 0.0, ...   1.0        1.0   \n",
       "705  (0.0, 0.0, 1.0, 1.0, 0.0, 1.0, 2.0, 1.0, 0.0, ...   1.0        1.0   \n",
       "926  (0.0, 0.0, 1.0, 1.0, 0.0, 1.0, 2.0, 1.0, 0.0, ...   1.0        1.0   \n",
       "925  (0.0, 0.0, 1.0, 1.0, 0.0, 1.0, 2.0, 1.0, 0.0, ...   1.0        1.0   \n",
       "\n",
       "    assigned_dt  \n",
       "175  2016-09-01  \n",
       "66   2016-09-01  \n",
       "705  2016-09-01  \n",
       "926  2016-09-01  \n",
       "925  2016-09-01  \n",
       "\n",
       "[5 rows x 35 columns]"
      ]
     },
     "execution_count": 90,
     "metadata": {},
     "output_type": "execute_result"
    }
   ],
   "source": [
    "assigned_tree.head()"
   ]
  },
  {
   "cell_type": "markdown",
   "metadata": {
    "collapsed": true
   },
   "source": [
    "There is probably something else worth saying... these models were not chosen at random. They were chosen to illustrate that both are good models, and that they both meet our objective. It's a happy coincidence that they are exactly the same results on this run. Additionally, the parameters weren't blindly chosen, either. A GridSearch was performed to tune each of the models, and where necessary, hyperparameters reflect that. In many cases, not using the default values offered so little loss that it was deemed better not to conceptually clutter the model."
   ]
  },
  {
   "cell_type": "code",
   "execution_count": null,
   "metadata": {
    "collapsed": true
   },
   "outputs": [],
   "source": []
  }
 ],
 "metadata": {
  "anaconda-cloud": {},
  "kernelspec": {
   "display_name": "Python [conda root]",
   "language": "python",
   "name": "conda-root-py"
  },
  "language_info": {
   "codemirror_mode": {
    "name": "ipython",
    "version": 2
   },
   "file_extension": ".py",
   "mimetype": "text/x-python",
   "name": "python",
   "nbconvert_exporter": "python",
   "pygments_lexer": "ipython2",
   "version": "2.7.12"
  }
 },
 "nbformat": 4,
 "nbformat_minor": 1
}
