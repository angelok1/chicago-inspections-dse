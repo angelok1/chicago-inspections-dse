{
 "cells": [
  {
   "cell_type": "markdown",
   "metadata": {},
   "source": [
    "# Inspection Data"
   ]
  },
  {
   "cell_type": "markdown",
   "metadata": {},
   "source": [
    "This notebook was loaded with:\n",
    "\n",
    "```bash\n",
    "PYSPARK_DRIVER_PYTHON=jupyter PYSPARK_DRIVER_PYTHON_OPTS=notebook ./dse/bin/dse pyspark --num-executors 5 --driver-memory 6g --executor-memory 6g\n",
    "```\n",
    "\n",
    "The general plan is to do some exploration and cleaning in jupyter notebooks, then run our actual models by submitting python scripts and letting the jobs run as we'd expect.\n",
    "\n",
    "We'll clean the data and load them into cassandra tables to be used by the jobs."
   ]
  },
  {
   "cell_type": "code",
   "execution_count": 1,
   "metadata": {
    "collapsed": false
   },
   "outputs": [
    {
     "name": "stdout",
     "output_type": "stream",
     "text": [
      "Populating the interactive namespace from numpy and matplotlib\n"
     ]
    }
   ],
   "source": [
    "%pylab inline "
   ]
  },
  {
   "cell_type": "code",
   "execution_count": 68,
   "metadata": {
    "collapsed": false
   },
   "outputs": [],
   "source": [
    "from pyspark.sql import Row\n",
    "from pyspark.sql.types import *\n",
    "import matplotlib\n",
    "import matplotlib.pyplot as plt\n",
    "from pyspark.sql.functions import lag, coalesce, rank, lit, when,col, udf, to_date, year, mean, month, date_format, array\n",
    "from pyspark.sql.types import StructType, StructField, IntegerType, StringType, FloatType, DateType\n",
    "from pyspark.ml.feature import StringIndexer\n",
    "from datetime import datetime\n",
    "from pyspark.sql.window import Window\n",
    "import pyspark"
   ]
  },
  {
   "cell_type": "markdown",
   "metadata": {
    "collapsed": true
   },
   "source": [
    "## Exploration"
   ]
  },
  {
   "cell_type": "markdown",
   "metadata": {},
   "source": [
    "Now, we can do some exploration of our data. Let's load in the inspection set from 2010 and onward."
   ]
  },
  {
   "cell_type": "markdown",
   "metadata": {},
   "source": [
    "We'll load the data file into DSEFS (DSE's Hadoop FS implementation). This should be reminiscent of the way Hadoop does things.\n",
    "\n",
    "```bash\n",
    "./dse fs\n",
    "mkdir datadir\n",
    "put /Users/angelo/chicago/data/Food_Inspections.csv datadir/Food_Inspections.csv\n",
    "\n",
    "```"
   ]
  },
  {
   "cell_type": "markdown",
   "metadata": {},
   "source": [
    "Now, we can start working with it... let's load it into the spark context"
   ]
  },
  {
   "cell_type": "code",
   "execution_count": 7,
   "metadata": {
    "collapsed": false
   },
   "outputs": [],
   "source": [
    "df2 = sqlContext.read.csv(\"dsefs:///datadir/Food_Inspections.csv\", sep=\"|\", header=\"True\") \\\n",
    "    .cache()"
   ]
  },
  {
   "cell_type": "code",
   "execution_count": 8,
   "metadata": {
    "collapsed": false
   },
   "outputs": [
    {
     "data": {
      "text/plain": [
       "[Row(Inspection ID=u'1970782', DBA Name=u\"MARINO'S DISTRIBUTION , INC.\", AKA Name=u\"MARINO'S DISTRIBUTION\", License #=u'2495906', Facility Type=u'Grocery Store', Risk=u'Risk 3 (Low)', Address=u'3939 S KEDZIE AVE ', City=u'CHICAGO', State=u'IL', Zip=u'60632', Inspection Date=u'11/3/16', Inspection Type=u'License', Results=u'Pass', Latitude=u'41.82145816', Longitude=u'-87.70435016', Location=u'(41.82145816352694, -87.70435016027005)'),\n",
       " Row(Inspection ID=u'1970772', DBA Name=u'STARBUCKS COFFEE #2827', AKA Name=u'STARBUCKS COFFEE #2827', License #=u'2093906', Facility Type=u'Restaurant', Risk=u'Risk 2 (Medium)', Address=u'1174 E 55TH ST ', City=u'CHICAGO', State=u'IL', Zip=u'60615', Inspection Date=u'11/3/16', Inspection Type=u'Canvass', Results=u'Pass', Latitude=u'41.79517545', Longitude=u'-87.59660148', Location=u'(41.79517545018063, -87.59660147733702)')]"
      ]
     },
     "execution_count": 8,
     "metadata": {},
     "output_type": "execute_result"
    }
   ],
   "source": [
    "df2.head(2)"
   ]
  },
  {
   "cell_type": "code",
   "execution_count": 9,
   "metadata": {
    "collapsed": false
   },
   "outputs": [
    {
     "data": {
      "text/plain": [
       "87952"
      ]
     },
     "execution_count": 9,
     "metadata": {},
     "output_type": "execute_result"
    }
   ],
   "source": [
    "rest = df2.filter(df2[\"Facility Type\"] == \"Restaurant\").cache()\n",
    "rest.count()"
   ]
  },
  {
   "cell_type": "markdown",
   "metadata": {},
   "source": [
    "Let's take a look at some of the data... what does Risk and Results look like?"
   ]
  },
  {
   "cell_type": "code",
   "execution_count": 10,
   "metadata": {
    "collapsed": false
   },
   "outputs": [
    {
     "data": {
      "text/html": [
       "<div>\n",
       "<table border=\"1\" class=\"dataframe\">\n",
       "  <thead>\n",
       "    <tr style=\"text-align: right;\">\n",
       "      <th></th>\n",
       "      <th>Risk</th>\n",
       "    </tr>\n",
       "  </thead>\n",
       "  <tbody>\n",
       "    <tr>\n",
       "      <th>0</th>\n",
       "      <td>None</td>\n",
       "    </tr>\n",
       "    <tr>\n",
       "      <th>1</th>\n",
       "      <td>Risk 1 (High)</td>\n",
       "    </tr>\n",
       "    <tr>\n",
       "      <th>2</th>\n",
       "      <td>All</td>\n",
       "    </tr>\n",
       "    <tr>\n",
       "      <th>3</th>\n",
       "      <td>Risk 2 (Medium)</td>\n",
       "    </tr>\n",
       "    <tr>\n",
       "      <th>4</th>\n",
       "      <td>Risk 3 (Low)</td>\n",
       "    </tr>\n",
       "  </tbody>\n",
       "</table>\n",
       "</div>"
      ],
      "text/plain": [
       "              Risk\n",
       "0             None\n",
       "1    Risk 1 (High)\n",
       "2              All\n",
       "3  Risk 2 (Medium)\n",
       "4     Risk 3 (Low)"
      ]
     },
     "execution_count": 10,
     "metadata": {},
     "output_type": "execute_result"
    }
   ],
   "source": [
    "rest.select(\"Risk\").distinct().toPandas()"
   ]
  },
  {
   "cell_type": "code",
   "execution_count": 11,
   "metadata": {
    "collapsed": false
   },
   "outputs": [
    {
     "data": {
      "text/html": [
       "<div>\n",
       "<table border=\"1\" class=\"dataframe\">\n",
       "  <thead>\n",
       "    <tr style=\"text-align: right;\">\n",
       "      <th></th>\n",
       "      <th>Results</th>\n",
       "    </tr>\n",
       "  </thead>\n",
       "  <tbody>\n",
       "    <tr>\n",
       "      <th>0</th>\n",
       "      <td>Not Ready</td>\n",
       "    </tr>\n",
       "    <tr>\n",
       "      <th>1</th>\n",
       "      <td>Fail</td>\n",
       "    </tr>\n",
       "    <tr>\n",
       "      <th>2</th>\n",
       "      <td>No Entry</td>\n",
       "    </tr>\n",
       "    <tr>\n",
       "      <th>3</th>\n",
       "      <td>Business Not Located</td>\n",
       "    </tr>\n",
       "    <tr>\n",
       "      <th>4</th>\n",
       "      <td>Pass w/ Conditions</td>\n",
       "    </tr>\n",
       "    <tr>\n",
       "      <th>5</th>\n",
       "      <td>Out of Business</td>\n",
       "    </tr>\n",
       "    <tr>\n",
       "      <th>6</th>\n",
       "      <td>Pass</td>\n",
       "    </tr>\n",
       "  </tbody>\n",
       "</table>\n",
       "</div>"
      ],
      "text/plain": [
       "                Results\n",
       "0             Not Ready\n",
       "1                  Fail\n",
       "2              No Entry\n",
       "3  Business Not Located\n",
       "4    Pass w/ Conditions\n",
       "5       Out of Business\n",
       "6                  Pass"
      ]
     },
     "execution_count": 11,
     "metadata": {},
     "output_type": "execute_result"
    }
   ],
   "source": [
    "rest.select(\"Results\").distinct().toPandas()"
   ]
  },
  {
   "cell_type": "markdown",
   "metadata": {},
   "source": [
    "Hopefully, we're only looking at chicago data. If so, city and state aren't terribly useful for us. Note the data collection errors..."
   ]
  },
  {
   "cell_type": "code",
   "execution_count": 12,
   "metadata": {
    "collapsed": false
   },
   "outputs": [
    {
     "data": {
      "text/html": [
       "<div>\n",
       "<table border=\"1\" class=\"dataframe\">\n",
       "  <thead>\n",
       "    <tr style=\"text-align: right;\">\n",
       "      <th></th>\n",
       "      <th>City</th>\n",
       "    </tr>\n",
       "  </thead>\n",
       "  <tbody>\n",
       "    <tr>\n",
       "      <th>0</th>\n",
       "      <td>chicago</td>\n",
       "    </tr>\n",
       "    <tr>\n",
       "      <th>1</th>\n",
       "      <td>CHICAGOI</td>\n",
       "    </tr>\n",
       "    <tr>\n",
       "      <th>2</th>\n",
       "      <td>None</td>\n",
       "    </tr>\n",
       "    <tr>\n",
       "      <th>3</th>\n",
       "      <td>Chicago</td>\n",
       "    </tr>\n",
       "    <tr>\n",
       "      <th>4</th>\n",
       "      <td>CHICAGO</td>\n",
       "    </tr>\n",
       "    <tr>\n",
       "      <th>5</th>\n",
       "      <td>CCHICAGO</td>\n",
       "    </tr>\n",
       "    <tr>\n",
       "      <th>6</th>\n",
       "      <td>CHICAGOCHICAGO</td>\n",
       "    </tr>\n",
       "  </tbody>\n",
       "</table>\n",
       "</div>"
      ],
      "text/plain": [
       "             City\n",
       "0         chicago\n",
       "1        CHICAGOI\n",
       "2            None\n",
       "3         Chicago\n",
       "4         CHICAGO\n",
       "5        CCHICAGO\n",
       "6  CHICAGOCHICAGO"
      ]
     },
     "execution_count": 12,
     "metadata": {},
     "output_type": "execute_result"
    }
   ],
   "source": [
    "rest.select(\"City\").distinct().toPandas()"
   ]
  },
  {
   "cell_type": "markdown",
   "metadata": {},
   "source": [
    "Inspection Type has data collection errors, too. That will be a problem for us. We'll need to clean them up."
   ]
  },
  {
   "cell_type": "code",
   "execution_count": 13,
   "metadata": {
    "collapsed": false
   },
   "outputs": [
    {
     "data": {
      "text/html": [
       "<div>\n",
       "<table border=\"1\" class=\"dataframe\">\n",
       "  <thead>\n",
       "    <tr style=\"text-align: right;\">\n",
       "      <th></th>\n",
       "      <th>Inspection Type</th>\n",
       "    </tr>\n",
       "  </thead>\n",
       "  <tbody>\n",
       "    <tr>\n",
       "      <th>0</th>\n",
       "      <td>Pre-License Consultation</td>\n",
       "    </tr>\n",
       "    <tr>\n",
       "      <th>1</th>\n",
       "      <td>fire complaint</td>\n",
       "    </tr>\n",
       "    <tr>\n",
       "      <th>2</th>\n",
       "      <td>SFP</td>\n",
       "    </tr>\n",
       "    <tr>\n",
       "      <th>3</th>\n",
       "      <td>CHANGED COURT DATE</td>\n",
       "    </tr>\n",
       "    <tr>\n",
       "      <th>4</th>\n",
       "      <td>KITCHEN CLOSED FOR RENOVATION</td>\n",
       "    </tr>\n",
       "    <tr>\n",
       "      <th>5</th>\n",
       "      <td>LIQUOR CATERING</td>\n",
       "    </tr>\n",
       "    <tr>\n",
       "      <th>6</th>\n",
       "      <td>TASK FORCE NOT READY</td>\n",
       "    </tr>\n",
       "    <tr>\n",
       "      <th>7</th>\n",
       "      <td>CANVASS</td>\n",
       "    </tr>\n",
       "    <tr>\n",
       "      <th>8</th>\n",
       "      <td>LICENSE/NOT READY</td>\n",
       "    </tr>\n",
       "    <tr>\n",
       "      <th>9</th>\n",
       "      <td>No entry</td>\n",
       "    </tr>\n",
       "    <tr>\n",
       "      <th>10</th>\n",
       "      <td>1315 license reinspection</td>\n",
       "    </tr>\n",
       "    <tr>\n",
       "      <th>11</th>\n",
       "      <td>Canvass</td>\n",
       "    </tr>\n",
       "    <tr>\n",
       "      <th>12</th>\n",
       "      <td>Canvass Re-Inspection</td>\n",
       "    </tr>\n",
       "    <tr>\n",
       "      <th>13</th>\n",
       "      <td>Special Events (Festivals)</td>\n",
       "    </tr>\n",
       "    <tr>\n",
       "      <th>14</th>\n",
       "      <td>Consultation</td>\n",
       "    </tr>\n",
       "    <tr>\n",
       "      <th>15</th>\n",
       "      <td>citation re-issued</td>\n",
       "    </tr>\n",
       "    <tr>\n",
       "      <th>16</th>\n",
       "      <td>LICENSE REQUEST</td>\n",
       "    </tr>\n",
       "    <tr>\n",
       "      <th>17</th>\n",
       "      <td>None</td>\n",
       "    </tr>\n",
       "    <tr>\n",
       "      <th>18</th>\n",
       "      <td>no entry</td>\n",
       "    </tr>\n",
       "    <tr>\n",
       "      <th>19</th>\n",
       "      <td>Short Form Complaint</td>\n",
       "    </tr>\n",
       "    <tr>\n",
       "      <th>20</th>\n",
       "      <td>OUT OF BUSINESS</td>\n",
       "    </tr>\n",
       "    <tr>\n",
       "      <th>21</th>\n",
       "      <td>Complaint-Fire</td>\n",
       "    </tr>\n",
       "    <tr>\n",
       "      <th>22</th>\n",
       "      <td>License Re-Inspection</td>\n",
       "    </tr>\n",
       "    <tr>\n",
       "      <th>23</th>\n",
       "      <td>Recent Inspection</td>\n",
       "    </tr>\n",
       "    <tr>\n",
       "      <th>24</th>\n",
       "      <td>CANVASS FOR RIB FEST</td>\n",
       "    </tr>\n",
       "    <tr>\n",
       "      <th>25</th>\n",
       "      <td>Task Force Liquor 1475</td>\n",
       "    </tr>\n",
       "    <tr>\n",
       "      <th>26</th>\n",
       "      <td>LICENSE TASK FORCE / NOT -FOR-PROFIT CLU</td>\n",
       "    </tr>\n",
       "    <tr>\n",
       "      <th>27</th>\n",
       "      <td>Not Ready</td>\n",
       "    </tr>\n",
       "    <tr>\n",
       "      <th>28</th>\n",
       "      <td>NO ENTRY</td>\n",
       "    </tr>\n",
       "    <tr>\n",
       "      <th>29</th>\n",
       "      <td>LIQOUR TASK FORCE NOT READY</td>\n",
       "    </tr>\n",
       "    <tr>\n",
       "      <th>...</th>\n",
       "      <td>...</td>\n",
       "    </tr>\n",
       "    <tr>\n",
       "      <th>37</th>\n",
       "      <td>FIRE/COMPLAIN</td>\n",
       "    </tr>\n",
       "    <tr>\n",
       "      <th>38</th>\n",
       "      <td>Task Force Liquor Catering</td>\n",
       "    </tr>\n",
       "    <tr>\n",
       "      <th>39</th>\n",
       "      <td>Tag Removal</td>\n",
       "    </tr>\n",
       "    <tr>\n",
       "      <th>40</th>\n",
       "      <td>Package Liquor 1474</td>\n",
       "    </tr>\n",
       "    <tr>\n",
       "      <th>41</th>\n",
       "      <td>SFP RECENTLY INSPECTED</td>\n",
       "    </tr>\n",
       "    <tr>\n",
       "      <th>42</th>\n",
       "      <td>No Entry</td>\n",
       "    </tr>\n",
       "    <tr>\n",
       "      <th>43</th>\n",
       "      <td>Sample Collection</td>\n",
       "    </tr>\n",
       "    <tr>\n",
       "      <th>44</th>\n",
       "      <td>Short Form Fire-Complaint</td>\n",
       "    </tr>\n",
       "    <tr>\n",
       "      <th>45</th>\n",
       "      <td>Complaint-Fire Re-inspection</td>\n",
       "    </tr>\n",
       "    <tr>\n",
       "      <th>46</th>\n",
       "      <td>error save</td>\n",
       "    </tr>\n",
       "    <tr>\n",
       "      <th>47</th>\n",
       "      <td>License-Task Force</td>\n",
       "    </tr>\n",
       "    <tr>\n",
       "      <th>48</th>\n",
       "      <td>Non-Inspection</td>\n",
       "    </tr>\n",
       "    <tr>\n",
       "      <th>49</th>\n",
       "      <td>TWO PEOPLE ATE AND GOT SICK.</td>\n",
       "    </tr>\n",
       "    <tr>\n",
       "      <th>50</th>\n",
       "      <td>TASTE OF CHICAGO</td>\n",
       "    </tr>\n",
       "    <tr>\n",
       "      <th>51</th>\n",
       "      <td>POSSIBLE FBI</td>\n",
       "    </tr>\n",
       "    <tr>\n",
       "      <th>52</th>\n",
       "      <td>finish complaint inspection from 5-18-10</td>\n",
       "    </tr>\n",
       "    <tr>\n",
       "      <th>53</th>\n",
       "      <td>TASKFORCE</td>\n",
       "    </tr>\n",
       "    <tr>\n",
       "      <th>54</th>\n",
       "      <td>License</td>\n",
       "    </tr>\n",
       "    <tr>\n",
       "      <th>55</th>\n",
       "      <td>Suspected Food Poisoning Re-inspection</td>\n",
       "    </tr>\n",
       "    <tr>\n",
       "      <th>56</th>\n",
       "      <td>RE-INSPECTION OF CLOSE-UP</td>\n",
       "    </tr>\n",
       "    <tr>\n",
       "      <th>57</th>\n",
       "      <td>Complaint Re-Inspection</td>\n",
       "    </tr>\n",
       "    <tr>\n",
       "      <th>58</th>\n",
       "      <td>HACCP QUESTIONAIRE</td>\n",
       "    </tr>\n",
       "    <tr>\n",
       "      <th>59</th>\n",
       "      <td>Complaint</td>\n",
       "    </tr>\n",
       "    <tr>\n",
       "      <th>60</th>\n",
       "      <td>expansion</td>\n",
       "    </tr>\n",
       "    <tr>\n",
       "      <th>61</th>\n",
       "      <td>Out of Business</td>\n",
       "    </tr>\n",
       "    <tr>\n",
       "      <th>62</th>\n",
       "      <td>CANVAS</td>\n",
       "    </tr>\n",
       "    <tr>\n",
       "      <th>63</th>\n",
       "      <td>CANVASS RE INSPECTION OF CLOSE UP</td>\n",
       "    </tr>\n",
       "    <tr>\n",
       "      <th>64</th>\n",
       "      <td>SFP/Complaint</td>\n",
       "    </tr>\n",
       "    <tr>\n",
       "      <th>65</th>\n",
       "      <td>REINSPECTION</td>\n",
       "    </tr>\n",
       "    <tr>\n",
       "      <th>66</th>\n",
       "      <td>CORRECTIVE ACTION</td>\n",
       "    </tr>\n",
       "  </tbody>\n",
       "</table>\n",
       "<p>67 rows × 1 columns</p>\n",
       "</div>"
      ],
      "text/plain": [
       "                             Inspection Type\n",
       "0                   Pre-License Consultation\n",
       "1                             fire complaint\n",
       "2                                        SFP\n",
       "3                         CHANGED COURT DATE\n",
       "4              KITCHEN CLOSED FOR RENOVATION\n",
       "5                            LIQUOR CATERING\n",
       "6                       TASK FORCE NOT READY\n",
       "7                                    CANVASS\n",
       "8                          LICENSE/NOT READY\n",
       "9                                   No entry\n",
       "10                 1315 license reinspection\n",
       "11                                   Canvass\n",
       "12                     Canvass Re-Inspection\n",
       "13                Special Events (Festivals)\n",
       "14                              Consultation\n",
       "15                        citation re-issued\n",
       "16                           LICENSE REQUEST\n",
       "17                                      None\n",
       "18                                  no entry\n",
       "19                      Short Form Complaint\n",
       "20                           OUT OF BUSINESS\n",
       "21                            Complaint-Fire\n",
       "22                     License Re-Inspection\n",
       "23                         Recent Inspection\n",
       "24                      CANVASS FOR RIB FEST\n",
       "25                    Task Force Liquor 1475\n",
       "26  LICENSE TASK FORCE / NOT -FOR-PROFIT CLU\n",
       "27                                 Not Ready\n",
       "28                                  NO ENTRY\n",
       "29               LIQOUR TASK FORCE NOT READY\n",
       "..                                       ...\n",
       "37                             FIRE/COMPLAIN\n",
       "38                Task Force Liquor Catering\n",
       "39                               Tag Removal\n",
       "40                       Package Liquor 1474\n",
       "41                    SFP RECENTLY INSPECTED\n",
       "42                                  No Entry\n",
       "43                         Sample Collection\n",
       "44                 Short Form Fire-Complaint\n",
       "45              Complaint-Fire Re-inspection\n",
       "46                                error save\n",
       "47                        License-Task Force\n",
       "48                            Non-Inspection\n",
       "49              TWO PEOPLE ATE AND GOT SICK.\n",
       "50                          TASTE OF CHICAGO\n",
       "51                              POSSIBLE FBI\n",
       "52  finish complaint inspection from 5-18-10\n",
       "53                                 TASKFORCE\n",
       "54                                   License\n",
       "55    Suspected Food Poisoning Re-inspection\n",
       "56                 RE-INSPECTION OF CLOSE-UP\n",
       "57                   Complaint Re-Inspection\n",
       "58                        HACCP QUESTIONAIRE\n",
       "59                                 Complaint\n",
       "60                                 expansion\n",
       "61                           Out of Business\n",
       "62                                    CANVAS\n",
       "63         CANVASS RE INSPECTION OF CLOSE UP\n",
       "64                             SFP/Complaint\n",
       "65                              REINSPECTION\n",
       "66                         CORRECTIVE ACTION\n",
       "\n",
       "[67 rows x 1 columns]"
      ]
     },
     "execution_count": 13,
     "metadata": {},
     "output_type": "execute_result"
    }
   ],
   "source": [
    "rest.select(\"Inspection Type\").distinct().toPandas()"
   ]
  },
  {
   "cell_type": "code",
   "execution_count": 14,
   "metadata": {
    "collapsed": false
   },
   "outputs": [],
   "source": [
    "rest = rest.replace(\n",
    "    [\"TWO PEOPLE ATE AND GOT SICK.\", \"TASK FORCE LIQUOR (1481)\", \"Task Force Liquor 1475\",\"Package Liquor 1474\",\"1315 license reinspection\",\"Out of Business\",\"No entry\",\"No Entry\",\"LICENSE TASK FORCE / NOT -FOR-PROFIT CLU\", \"no entry\",\"SFP/COMPLAINT\", \"SFP/Complaint\",\"SFP\",\"FIRE/COMPLAIN\",\"fire complaint\",\"CANVAS\", \"finish complaint inspection from 5-18-10\",\"CANVASS FOR RIB FEST\",\"CANVASS SPECIAL EVENTS\",\"SFP RECENTLY INSPECTED\",\"Short Form Fire-Complaint\",\"NO ENTRY-SHORT COMPLAINT\"],\n",
    "    [\"Suspected Food Poisoning\", \"Task Force Liquor\",\"Task Force Liquor\",\"Task Force Liquor\",\"License Re-Inspection\",\"OUT OF BUSINESS\",\"NO ENTRY\",\"NO ENTRY\",\"LICENSE TASK FORCE / NOT -FOR-PROFIT CLUB\", \"NO ENTRY\",\"Suspected Food Poisoning\",\"Suspected Food Poisoning\",\"Suspected Food Poisoning\",\"Complaint-Fire\",\"Complaint-Fire\", \"Canvass\", \"Complaint\",\"Special Events (Festivals)\",\"Special Events (Festivals)\",\"Recent Inspection\",\"Complaint-Fire\", \"NO ENTRY\"],\n",
    "    \"Inspection Type\")"
   ]
  },
  {
   "cell_type": "code",
   "execution_count": 15,
   "metadata": {
    "collapsed": false
   },
   "outputs": [
    {
     "data": {
      "text/plain": [
       "47"
      ]
     },
     "execution_count": 15,
     "metadata": {},
     "output_type": "execute_result"
    }
   ],
   "source": [
    "rest.select(\"Inspection Type\").distinct().count()"
   ]
  },
  {
   "cell_type": "code",
   "execution_count": 16,
   "metadata": {
    "collapsed": true
   },
   "outputs": [],
   "source": [
    "rest = rest.filter((rest[\"Results\"] == \"Pass\") | (rest[\"Results\"] == \"Pass w/ Conditions\") | (rest[\"Results\"] == \"Fail\"))"
   ]
  },
  {
   "cell_type": "markdown",
   "metadata": {},
   "source": [
    "Let's drop some unnecessary columns. All of these are in Chicago, so let's lose City and State. Location is a string representing Logitude and Latitude, so that's duplicate data."
   ]
  },
  {
   "cell_type": "code",
   "execution_count": 17,
   "metadata": {
    "collapsed": false
   },
   "outputs": [
    {
     "data": {
      "text/plain": [
       "['Inspection ID',\n",
       " 'DBA Name',\n",
       " 'AKA Name',\n",
       " 'License #',\n",
       " 'Facility Type',\n",
       " 'Risk',\n",
       " 'Address',\n",
       " 'Zip',\n",
       " 'Inspection Date',\n",
       " 'Inspection Type',\n",
       " 'Results',\n",
       " 'Latitude',\n",
       " 'Longitude']"
      ]
     },
     "execution_count": 17,
     "metadata": {},
     "output_type": "execute_result"
    }
   ],
   "source": [
    "rest = rest.drop(\"City\").drop(\"State\").drop(\"Location\")\n",
    "rest.columns"
   ]
  },
  {
   "cell_type": "markdown",
   "metadata": {},
   "source": [
    "Now, let's recode the Pass/Fail as a binary value... 1 for fail and 0 for pass. We'll need that as our machine learning training label."
   ]
  },
  {
   "cell_type": "code",
   "execution_count": 19,
   "metadata": {
    "collapsed": true
   },
   "outputs": [],
   "source": [
    "Y_col = when(col(\"Results\") != \"Fail\", 0).otherwise(1)\n",
    "rest2 = rest.withColumn(\"Y\", Y_col)"
   ]
  },
  {
   "cell_type": "code",
   "execution_count": 20,
   "metadata": {
    "collapsed": false
   },
   "outputs": [
    {
     "name": "stdout",
     "output_type": "stream",
     "text": [
      "P(Y=Fail|Inspection Type=Pre-License Consultation) = 0.9000\n",
      "P(Y=Fail|Inspection Type=CHANGED COURT DATE) = 0.0000\n",
      "P(Y=Fail|Inspection Type=LIQUOR CATERING) = 1.0000\n",
      "P(Y=Fail|Inspection Type=TASK FORCE NOT READY) = 1.0000\n",
      "P(Y=Fail|Inspection Type=LICENSE/NOT READY) = 1.0000\n",
      "P(Y=Fail|Inspection Type=Canvass) = 0.1982\n",
      "P(Y=Fail|Inspection Type=Canvass Re-Inspection) = 0.0463\n",
      "P(Y=Fail|Inspection Type=Special Events (Festivals)) = 0.1304\n",
      "P(Y=Fail|Inspection Type=Consultation) = 0.1448\n",
      "P(Y=Fail|Inspection Type=citation re-issued) = 0.0000\n",
      "P(Y=Fail|Inspection Type=LICENSE REQUEST) = 1.0000\n",
      "P(Y=Fail|Inspection Type=None) = 0.0000\n",
      "P(Y=Fail|Inspection Type=Short Form Complaint) = 0.1273\n",
      "P(Y=Fail|Inspection Type=OUT OF BUSINESS) = 0.4909\n",
      "P(Y=Fail|Inspection Type=Complaint-Fire) = 0.3445\n",
      "P(Y=Fail|Inspection Type=License Re-Inspection) = 0.1080\n",
      "P(Y=Fail|Inspection Type=Recent Inspection) = 0.0684\n",
      "P(Y=Fail|Inspection Type=Not Ready) = 1.0000\n",
      "P(Y=Fail|Inspection Type=NO ENTRY) = 0.4821\n",
      "P(Y=Fail|Inspection Type=LIQOUR TASK FORCE NOT READY) = 1.0000\n",
      "P(Y=Fail|Inspection Type=Suspected Food Poisoning) = 0.2496\n",
      "P(Y=Fail|Inspection Type=LICENSE TASK FORCE / NOT -FOR-PROFIT CLUB) = 0.0000\n",
      "P(Y=Fail|Inspection Type=NO ENTRY-SHORT COMPLAINT)) = 1.0000\n",
      "P(Y=Fail|Inspection Type=Task Force Liquor Catering) = 0.0000\n",
      "P(Y=Fail|Inspection Type=Tag Removal) = 0.0435\n",
      "P(Y=Fail|Inspection Type=Sample Collection) = 0.0000\n",
      "P(Y=Fail|Inspection Type=Complaint-Fire Re-inspection) = 0.1053\n",
      "P(Y=Fail|Inspection Type=error save) = 0.0000\n",
      "P(Y=Fail|Inspection Type=License-Task Force) = 0.5986\n",
      "P(Y=Fail|Inspection Type=Non-Inspection) = 1.0000\n",
      "P(Y=Fail|Inspection Type=Task Force Liquor) = 0.4886\n",
      "P(Y=Fail|Inspection Type=TASTE OF CHICAGO) = 0.0000\n",
      "P(Y=Fail|Inspection Type=POSSIBLE FBI) = 0.0000\n",
      "P(Y=Fail|Inspection Type=TASKFORCE) = 1.0000\n",
      "P(Y=Fail|Inspection Type=License) = 0.4139\n",
      "P(Y=Fail|Inspection Type=Suspected Food Poisoning Re-inspection) = 0.0821\n",
      "P(Y=Fail|Inspection Type=RE-INSPECTION OF CLOSE-UP) = 1.0000\n",
      "P(Y=Fail|Inspection Type=Complaint Re-Inspection) = 0.0842\n",
      "P(Y=Fail|Inspection Type=HACCP QUESTIONAIRE) = 0.0000\n",
      "P(Y=Fail|Inspection Type=Complaint) = 0.3199\n",
      "P(Y=Fail|Inspection Type=expansion) = 0.0000\n",
      "P(Y=Fail|Inspection Type=CANVASS RE INSPECTION OF CLOSE UP) = 0.0000\n",
      "P(Y=Fail|Inspection Type=REINSPECTION) = 0.0000\n",
      "P(Y=Fail|Inspection Type=CORRECTIVE ACTION) = 0.0000\n"
     ]
    }
   ],
   "source": [
    "#Get a simple list of inspection types\n",
    "insp_types = rest.select(\"Inspection Type\").distinct().toPandas()[\"Inspection Type\"]\n",
    "\n",
    "for i in insp_types:\n",
    "    insp = rest.filter(rest[\"Inspection Type\"] == i)\n",
    "    total = float(insp.count())\n",
    "    if(total != 0):\n",
    "        print \"P(Y=Fail|Inspection Type=%s) = %.4f\" % (i, insp[insp[\"Results\"] == 'Fail'].count()/total)\n",
    "    else:\n",
    "        print \"P(Y=Fail|Inspection Type=%s) = %.4f\" % (i, 0)"
   ]
  },
  {
   "cell_type": "markdown",
   "metadata": {},
   "source": [
    "We can remove some of these... for example, \"Changed Court Date\" and \"error save\" are housekeeping records more than an actual inspections."
   ]
  },
  {
   "cell_type": "code",
   "execution_count": 21,
   "metadata": {
    "collapsed": false
   },
   "outputs": [],
   "source": [
    "rest2 = rest2.filter((rest2[\"Inspection Type\"] != \"error save\") & (rest2[\"Inspection Type\"] != \"Changed Court Date\"))"
   ]
  },
  {
   "cell_type": "code",
   "execution_count": 22,
   "metadata": {
    "collapsed": false
   },
   "outputs": [
    {
     "data": {
      "text/plain": [
       "1.0"
      ]
     },
     "execution_count": 22,
     "metadata": {},
     "output_type": "execute_result"
    }
   ],
   "source": [
    "#What's the proportion of business that fail a license request?\n",
    "lic = rest2[rest2[\"Inspection Type\"] == 'LICENSE REQUEST']\n",
    "lic[lic[\"Results\"] == 'Fail'].count()/float(lic.count())"
   ]
  },
  {
   "cell_type": "code",
   "execution_count": 23,
   "metadata": {
    "collapsed": false
   },
   "outputs": [
    {
     "data": {
      "text/plain": [
       "0.10801493823613904"
      ]
     },
     "execution_count": 23,
     "metadata": {},
     "output_type": "execute_result"
    }
   ],
   "source": [
    "#what about a license reinspection?\n",
    "lic = rest[rest[\"Inspection Type\"] == 'License Re-Inspection']\n",
    "lic[lic[\"Results\"] == 'Fail'].count()/float(lic.count())"
   ]
  },
  {
   "cell_type": "markdown",
   "metadata": {},
   "source": [
    "Interesting... everyone fails when they first apply (makes sense, they've never done one) and then almost everyone passes on the reinspection. That's a reasonable expectation."
   ]
  },
  {
   "cell_type": "markdown",
   "metadata": {},
   "source": [
    "### Number of Inspections"
   ]
  },
  {
   "cell_type": "code",
   "execution_count": 24,
   "metadata": {
    "collapsed": false
   },
   "outputs": [
    {
     "data": {
      "text/html": [
       "<div>\n",
       "<table border=\"1\" class=\"dataframe\">\n",
       "  <thead>\n",
       "    <tr style=\"text-align: right;\">\n",
       "      <th></th>\n",
       "      <th>License #</th>\n",
       "      <th>total_inspections</th>\n",
       "      <th>failed_inspections</th>\n",
       "      <th>prop</th>\n",
       "    </tr>\n",
       "  </thead>\n",
       "  <tbody>\n",
       "    <tr>\n",
       "      <th>0</th>\n",
       "      <td>2397985</td>\n",
       "      <td>2</td>\n",
       "      <td>1</td>\n",
       "      <td>0.500000</td>\n",
       "    </tr>\n",
       "    <tr>\n",
       "      <th>1</th>\n",
       "      <td>2397851</td>\n",
       "      <td>3</td>\n",
       "      <td>1</td>\n",
       "      <td>0.333333</td>\n",
       "    </tr>\n",
       "    <tr>\n",
       "      <th>2</th>\n",
       "      <td>691</td>\n",
       "      <td>12</td>\n",
       "      <td>4</td>\n",
       "      <td>0.333333</td>\n",
       "    </tr>\n",
       "    <tr>\n",
       "      <th>3</th>\n",
       "      <td>64038</td>\n",
       "      <td>10</td>\n",
       "      <td>1</td>\n",
       "      <td>0.100000</td>\n",
       "    </tr>\n",
       "    <tr>\n",
       "      <th>4</th>\n",
       "      <td>2103019</td>\n",
       "      <td>8</td>\n",
       "      <td>1</td>\n",
       "      <td>0.125000</td>\n",
       "    </tr>\n",
       "  </tbody>\n",
       "</table>\n",
       "</div>"
      ],
      "text/plain": [
       "  License #  total_inspections  failed_inspections      prop\n",
       "0   2397985                  2                   1  0.500000\n",
       "1   2397851                  3                   1  0.333333\n",
       "2       691                 12                   4  0.333333\n",
       "3     64038                 10                   1  0.100000\n",
       "4   2103019                  8                   1  0.125000"
      ]
     },
     "execution_count": 24,
     "metadata": {},
     "output_type": "execute_result"
    }
   ],
   "source": [
    "df_inspection_stats = rest2[[\"Results\", \"License #\"]] \\\n",
    "    .groupby(\"License #\") \\\n",
    "    .count() \\\n",
    "    .select(\"License #\", col(\"count\").alias(\"total_inspections\"))\n",
    "\n",
    "failures = rest2[rest2[\"Results\"] == \"Fail\"] \\\n",
    "    .groupby(\"License #\") \\\n",
    "    .count() \\\n",
    "    .select(\"License #\", col(\"count\").alias(\"failed_inspections\"))\n",
    "\n",
    "df_inspection_stats = df_inspection_stats.join(failures, \"License #\")\n",
    "\n",
    "df_inspection_stats = df_inspection_stats.withColumn(\"prop\", df_inspection_stats[\"failed_inspections\"]/df_inspection_stats[\"total_inspections\"])\n",
    "\n",
    "stat = df_inspection_stats.toPandas()\n",
    "stat.head(5)"
   ]
  },
  {
   "cell_type": "code",
   "execution_count": 31,
   "metadata": {
    "collapsed": false
   },
   "outputs": [
    {
     "data": {
      "text/plain": [
       "6.766249859186662"
      ]
     },
     "execution_count": 31,
     "metadata": {},
     "output_type": "execute_result"
    }
   ],
   "source": [
    "stat[\"total_inspections\"].mean()"
   ]
  },
  {
   "cell_type": "code",
   "execution_count": 32,
   "metadata": {
    "collapsed": false
   },
   "outputs": [
    {
     "data": {
      "text/plain": [
       "<matplotlib.text.Text at 0x11539bb50>"
      ]
     },
     "execution_count": 32,
     "metadata": {},
     "output_type": "execute_result"
    },
    {
     "data": {
      "image/png": "[encoded data removed]",
      "text/plain": [
       "<matplotlib.figure.Figure at 0x1151c5dd0>"
      ]
     },
     "metadata": {},
     "output_type": "display_data"
    }
   ],
   "source": [
    "plt.scatter(stat[\"total_inspections\"], stat[\"prop\"] )\n",
    "plt.axvline(stat[\"total_inspections\"].mean(), label=\"Mean\")\n",
    "plt.xlabel(\"Total Inspections\")\n",
    "plt.ylabel(\"Failure proportion\")\n",
    "plt.title(\"Failure proportion vs number of inspections\")"
   ]
  },
  {
   "cell_type": "markdown",
   "metadata": {},
   "source": [
    "\n",
    "This is interesting... The more times an establishment is inspected, the smaller the failure proportion. That could mean a lot of things... does it mean they get better over time? You'd think that the more complaints, the more inspections, and the more failures..."
   ]
  },
  {
   "cell_type": "markdown",
   "metadata": {},
   "source": [
    "### Inspection Frequency"
   ]
  },
  {
   "cell_type": "code",
   "execution_count": 50,
   "metadata": {
    "collapsed": false
   },
   "outputs": [
    {
     "data": {
      "text/plain": [
       "Row(Inspection ID=u'1970772', DBA Name=u'STARBUCKS COFFEE #2827', AKA Name=u'STARBUCKS COFFEE #2827', License #=u'2093906', Facility Type=u'Restaurant', Risk=u'Risk 2 (Medium)', Address=u'1174 E 55TH ST ', Zip=u'60615', Inspection Date=u'11/3/16', Inspection Type=u'Canvass', Results=u'Pass', Latitude=u'41.79517545', Longitude=u'-87.59660148', Y=0, inspection_dt=datetime.date(2016, 11, 3))"
      ]
     },
     "execution_count": 50,
     "metadata": {},
     "output_type": "execute_result"
    }
   ],
   "source": [
    "#avg # inspections per year\n",
    "string2Date = udf (lambda s: datetime.strptime(s, '%m/%d/%y'), DateType())\n",
    "rest2 = rest2.withColumn(\"inspection_dt\", string2Date(rest2[\"Inspection Date\"]))\n",
    "rest2.head()"
   ]
  },
  {
   "cell_type": "code",
   "execution_count": 60,
   "metadata": {
    "collapsed": false
   },
   "outputs": [
    {
     "data": {
      "text/plain": [
       "[Row(License #=u'50042', num_inspections=3, inspection_year=2016),\n",
       " Row(License #=u'2037878', num_inspections=1, inspection_year=2016),\n",
       " Row(License #=u'2027638', num_inspections=1, inspection_year=2016),\n",
       " Row(License #=u'1916161', num_inspections=2, inspection_year=2016),\n",
       " Row(License #=u'1927556', num_inspections=1, inspection_year=2016)]"
      ]
     },
     "execution_count": 60,
     "metadata": {},
     "output_type": "execute_result"
    }
   ],
   "source": [
    "dt_grp = rest2[[\"Results\", \"License #\",\"inspection_dt\"]] \\\n",
    "    .groupby([\"License #\", year(rest2[\"inspection_dt\"]) \\\n",
    "    .alias(\"inspection_year\")]) \\\n",
    "    .count() \\\n",
    "    .select(\"License #\", col(\"count\").alias(\"num_inspections\"), \"inspection_year\")\n",
    "    \n",
    "dt_grp.head(5)"
   ]
  },
  {
   "cell_type": "code",
   "execution_count": 81,
   "metadata": {
    "collapsed": false
   },
   "outputs": [
    {
     "data": {
      "text/plain": [
       "num_inspections    1.496579\n",
       "dtype: float64"
      ]
     },
     "execution_count": 81,
     "metadata": {},
     "output_type": "execute_result"
    }
   ],
   "source": [
    "dt_grp.filter(dt_grp.inspection_year == 2016).select(\"num_inspections\").toPandas().mean()"
   ]
  },
  {
   "cell_type": "markdown",
   "metadata": {},
   "source": [
    "### Repeat Offenders"
   ]
  },
  {
   "cell_type": "markdown",
   "metadata": {},
   "source": [
    "The average number inspections per license. This might be interesting to consider how a particular establishment compares to the mean, and their failure rate."
   ]
  },
  {
   "cell_type": "code",
   "execution_count": 94,
   "metadata": {
    "collapsed": false
   },
   "outputs": [],
   "source": [
    "#this_year = rest2[year(rest2[\"inspection_dt\"]) == 2016]\n",
    "#previous_years = rest2[year(rest2[\"inspection_dt\"]) < 2016]\n",
    "\n",
    "this_year = rest2[year(rest2[\"inspection_dt\"]) == 2016][[\"License #\", \"Y\"]] \\\n",
    "    .groupby(\"License #\") \\\n",
    "    .max() \\\n",
    "    .select(\"License #\", col(\"max(Y)\").alias(\"this_Y\"))\n",
    "\n",
    "\n",
    "\n",
    "previous_years = rest2[year(rest2[\"inspection_dt\"]) < 2016] \\\n",
    "    .groupby(\"License #\") \\\n",
    "    .max() \\\n",
    "    .select(\"License #\", col(\"max(Y)\").alias(\"prev_Y\"))\n",
    "\n",
    "previous_fails = this_year.join(previous_years, \"License #\")\n",
    "\n",
    "repeat_fail = previous_fails[(previous_fails[\"this_Y\"] == 1) & (previous_fails[\"prev_Y\"] == 1)].count()\n",
    "\n",
    "new_fail = previous_fails[(previous_fails[\"this_Y\"] == 1) & (previous_fails[\"prev_Y\"] == 0)].count()\n",
    "\n",
    "repeat_pass = previous_fails[(previous_fails[\"this_Y\"] == 0) & (previous_fails[\"prev_Y\"] == 0)].count()\n",
    "new_pass = previous_fails[(previous_fails[\"this_Y\"] == 0) & (previous_fails[\"prev_Y\"] == 1)].count()\n",
    "repeats = [repeat_fail, repeat_pass]"
   ]
  },
  {
   "cell_type": "code",
   "execution_count": 95,
   "metadata": {
    "collapsed": false
   },
   "outputs": [
    {
     "data": {
      "text/plain": [
       "<matplotlib.legend.Legend at 0x115b6fe10>"
      ]
     },
     "execution_count": 95,
     "metadata": {},
     "output_type": "execute_result"
    },
    {
     "data": {
      "image/png": "[encoded data removed]",
      "text/plain": [
       "<matplotlib.figure.Figure at 0x115b6fed0>"
      ]
     },
     "metadata": {},
     "output_type": "display_data"
    }
   ],
   "source": [
    "plt.bar([1,0],[repeat_fail, repeat_pass], label=\"Repeat\", color='#F1911E')\n",
    "plt.bar([1,0], [new_fail, new_pass], bottom=[repeat_fail, repeat_pass], label=\"New\", color='#F1BD1A')\n",
    "plt.xticks([1,0], (\"Fail\", \"Pass\"))\n",
    "\n",
    "plt.legend(loc=\"best\")"
   ]
  },
  {
   "cell_type": "code",
   "execution_count": 104,
   "metadata": {
    "collapsed": false
   },
   "outputs": [
    {
     "name": "stdout",
     "output_type": "stream",
     "text": [
      "[Row(Risk=None, count=3), Row(Risk=u'Risk 1 (High)', count=62506), Row(Risk=u'All', count=1), Row(Risk=u'Risk 2 (Medium)', count=15577), Row(Risk=u'Risk 3 (Low)', count=808)]\n"
     ]
    },
    {
     "data": {
      "text/plain": [
       "0.20896865533543735"
      ]
     },
     "execution_count": 104,
     "metadata": {},
     "output_type": "execute_result"
    }
   ],
   "source": [
    "#risk?\n",
    "print rest2[[\"Results\", \"Risk\"]].groupby(\"Risk\").count().head(10)\n",
    "\n",
    "#overall probability of failing:\n",
    "rest2[rest2[\"Y\"] == 1].count()/float(rest.count())"
   ]
  },
  {
   "cell_type": "markdown",
   "metadata": {},
   "source": [
    "### Risk Score"
   ]
  },
  {
   "cell_type": "code",
   "execution_count": 108,
   "metadata": {
    "collapsed": false
   },
   "outputs": [
    {
     "name": "stdout",
     "output_type": "stream",
     "text": [
      "P(Risk=1|Y=1) = 0.799418\n",
      "P(Risk=1) = 0.792268\n",
      "# of Risk 1 passing = 49326.000000\n",
      "P(Risk=2|Y=1) = 0.187117\n",
      "P(Risk=2) = 0.197440\n",
      "# of Risk 2 passing = 12492.000000\n",
      "P(Risk=3|Y=1) = 0.013223\n",
      "P(Risk=3) = 0.010241\n",
      "# of Risk 4 passing = 590.000000\n"
     ]
    }
   ],
   "source": [
    "#how do the risk categories compare?\n",
    "failures = rest2[rest2[\"Y\"] == 1]\n",
    "\n",
    "print \"P(Risk=1|Y=1) = %4f\" % (failures[failures[\"Risk\"] == \"Risk 1 (High)\"].count()/float(failures.count()))\n",
    "print \"P(Risk=1) = %4f\" % (rest2[rest2[\"Risk\"] == \"Risk 1 (High)\"].count()/float(rest2.count()))\n",
    "print \"# of Risk 1 passing = %4f\" % (rest2[(rest2[\"Risk\"] == \"Risk 1 (High)\") & (rest2[\"Y\"] == 0)].count())\n",
    "\n",
    "print \"P(Risk=2|Y=1) = %4f\" % (failures[failures[\"Risk\"] == \"Risk 2 (Medium)\"].count()/float(failures.count()))\n",
    "print \"P(Risk=2) = %4f\" % (rest2[rest2[\"Risk\"] == \"Risk 2 (Medium)\"].count()/float(rest2.count()))\n",
    "print \"# of Risk 2 passing = %4f\" % (rest2[(rest2[\"Risk\"] == \"Risk 2 (Medium)\") & (rest2[\"Y\"] == 0)].count())\n",
    "\n",
    "print \"P(Risk=3|Y=1) = %4f\" % (failures[failures[\"Risk\"] == \"Risk 3 (Low)\"].count()/float(failures.count()))\n",
    "print \"P(Risk=3) = %4f\" % (rest2[rest2[\"Risk\"] == \"Risk 3 (Low)\"].count()/float(rest2.count()))\n",
    "print \"# of Risk 4 passing = %4f\" % (rest2[(rest2[\"Risk\"] == \"Risk 3 (Low)\") & (rest2[\"Y\"] == 0)].count())"
   ]
  },
  {
   "cell_type": "markdown",
   "metadata": {},
   "source": [
    "Risk is interesting. Are they assessed this after inspection, or by the license type before hand? In any case, Failure seems to strongly follow risk for whatever reason."
   ]
  },
  {
   "cell_type": "markdown",
   "metadata": {},
   "source": [
    "### Failures Over Time"
   ]
  },
  {
   "cell_type": "code",
   "execution_count": 129,
   "metadata": {
    "collapsed": false
   },
   "outputs": [
    {
     "data": {
      "text/html": [
       "<div>\n",
       "<table border=\"1\" class=\"dataframe\">\n",
       "  <thead>\n",
       "    <tr style=\"text-align: right;\">\n",
       "      <th></th>\n",
       "      <th>month</th>\n",
       "      <th>total</th>\n",
       "      <th>failures</th>\n",
       "      <th>fail_prop</th>\n",
       "    </tr>\n",
       "  </thead>\n",
       "  <tbody>\n",
       "    <tr>\n",
       "      <th>0</th>\n",
       "      <td>12</td>\n",
       "      <td>4527</td>\n",
       "      <td>849</td>\n",
       "      <td>0.187541</td>\n",
       "    </tr>\n",
       "    <tr>\n",
       "      <th>1</th>\n",
       "      <td>1</td>\n",
       "      <td>6288</td>\n",
       "      <td>1233</td>\n",
       "      <td>0.196088</td>\n",
       "    </tr>\n",
       "    <tr>\n",
       "      <th>2</th>\n",
       "      <td>6</td>\n",
       "      <td>7432</td>\n",
       "      <td>1594</td>\n",
       "      <td>0.214478</td>\n",
       "    </tr>\n",
       "    <tr>\n",
       "      <th>3</th>\n",
       "      <td>3</td>\n",
       "      <td>7201</td>\n",
       "      <td>1397</td>\n",
       "      <td>0.194001</td>\n",
       "    </tr>\n",
       "    <tr>\n",
       "      <th>4</th>\n",
       "      <td>5</td>\n",
       "      <td>7216</td>\n",
       "      <td>1496</td>\n",
       "      <td>0.207317</td>\n",
       "    </tr>\n",
       "    <tr>\n",
       "      <th>5</th>\n",
       "      <td>9</td>\n",
       "      <td>7132</td>\n",
       "      <td>1651</td>\n",
       "      <td>0.231492</td>\n",
       "    </tr>\n",
       "    <tr>\n",
       "      <th>6</th>\n",
       "      <td>4</td>\n",
       "      <td>6903</td>\n",
       "      <td>1417</td>\n",
       "      <td>0.205273</td>\n",
       "    </tr>\n",
       "    <tr>\n",
       "      <th>7</th>\n",
       "      <td>8</td>\n",
       "      <td>7487</td>\n",
       "      <td>1669</td>\n",
       "      <td>0.222920</td>\n",
       "    </tr>\n",
       "    <tr>\n",
       "      <th>8</th>\n",
       "      <td>7</td>\n",
       "      <td>6492</td>\n",
       "      <td>1449</td>\n",
       "      <td>0.223198</td>\n",
       "    </tr>\n",
       "    <tr>\n",
       "      <th>9</th>\n",
       "      <td>10</td>\n",
       "      <td>6806</td>\n",
       "      <td>1417</td>\n",
       "      <td>0.208199</td>\n",
       "    </tr>\n",
       "    <tr>\n",
       "      <th>10</th>\n",
       "      <td>11</td>\n",
       "      <td>5333</td>\n",
       "      <td>1069</td>\n",
       "      <td>0.200450</td>\n",
       "    </tr>\n",
       "    <tr>\n",
       "      <th>11</th>\n",
       "      <td>2</td>\n",
       "      <td>6078</td>\n",
       "      <td>1246</td>\n",
       "      <td>0.205002</td>\n",
       "    </tr>\n",
       "  </tbody>\n",
       "</table>\n",
       "</div>"
      ],
      "text/plain": [
       "    month  total  failures  fail_prop\n",
       "0      12   4527       849   0.187541\n",
       "1       1   6288      1233   0.196088\n",
       "2       6   7432      1594   0.214478\n",
       "3       3   7201      1397   0.194001\n",
       "4       5   7216      1496   0.207317\n",
       "5       9   7132      1651   0.231492\n",
       "6       4   6903      1417   0.205273\n",
       "7       8   7487      1669   0.222920\n",
       "8       7   6492      1449   0.223198\n",
       "9      10   6806      1417   0.208199\n",
       "10     11   5333      1069   0.200450\n",
       "11      2   6078      1246   0.205002"
      ]
     },
     "execution_count": 129,
     "metadata": {},
     "output_type": "execute_result"
    }
   ],
   "source": [
    "failures = rest2[rest2[\"Y\"] == 1]\n",
    "\n",
    "month_fail_grp = failures[[\"Results\", \"inspection_dt\"]] \\\n",
    "    .groupby(month(failures[\"inspection_dt\"])) \\\n",
    "    .count() \\\n",
    "    .select(col(\"month(inspection_dt)\").alias(\"month\"), col(\"count\").alias(\"failures\"))\n",
    "\n",
    "month_all_grp = rest2[[\"Results\", \"inspection_dt\"]] \\\n",
    "    .groupby(month(rest2[\"inspection_dt\"])) \\\n",
    "    .count() \\\n",
    "    .select(col(\"month(inspection_dt)\").alias(\"month\"), col(\"count\").alias(\"total\"))\n",
    "    \n",
    "df_by_month = month_all_grp.join(month_fail_grp, \"month\")\n",
    "df_by_month = df_by_month.withColumn(\"fail_prop\", df_by_month[\"failures\"]/df_by_month[\"total\"])\n",
    "\n",
    "df_by_month = df_by_month.toPandas()\n",
    "df_by_month.head(20)"
   ]
  },
  {
   "cell_type": "code",
   "execution_count": 132,
   "metadata": {
    "collapsed": false
   },
   "outputs": [
    {
     "data": {
      "text/plain": [
       "<matplotlib.text.Text at 0x115eef990>"
      ]
     },
     "execution_count": 132,
     "metadata": {},
     "output_type": "execute_result"
    },
    {
     "data": {
      "image/png": "[encoded data removed]",
      "text/plain": [
       "<matplotlib.figure.Figure at 0x1164e1790>"
      ]
     },
     "metadata": {},
     "output_type": "display_data"
    }
   ],
   "source": [
    "plt.bar(df_by_month[\"month\"],df_by_month[\"fail_prop\"], label=\"Failure Rate\", color='#F1911E')\n",
    "plt.xticks([1,2,3,4,5,6,7,8,9,10,11,12], (\"Jan\", \"Feb\", \"Mar\", \"April\", \"May\", \"Jun\", \"Jul\", \"Aug\", \"Sept\", \"Oct\",\"Nov\", \"Dec\"))\n",
    "plt.legend(loc=\"best\")\n",
    "plt.title(\"Proportion of Failures by Month\")"
   ]
  },
  {
   "cell_type": "markdown",
   "metadata": {},
   "source": [
    "The failures seem to be highest in the hotter months.. July, August, September. Weather data may be helpful there. Of course, we're just guessing that it's because of temperature at this point."
   ]
  },
  {
   "cell_type": "code",
   "execution_count": 153,
   "metadata": {
    "collapsed": false
   },
   "outputs": [
    {
     "data": {
      "text/html": [
       "<div>\n",
       "<table border=\"1\" class=\"dataframe\">\n",
       "  <thead>\n",
       "    <tr style=\"text-align: right;\">\n",
       "      <th></th>\n",
       "      <th>weekday</th>\n",
       "      <th>total</th>\n",
       "      <th>failures</th>\n",
       "      <th>fail_prop</th>\n",
       "    </tr>\n",
       "  </thead>\n",
       "  <tbody>\n",
       "    <tr>\n",
       "      <th>0</th>\n",
       "      <td>Mon</td>\n",
       "      <td>13243</td>\n",
       "      <td>2872</td>\n",
       "      <td>0.216869</td>\n",
       "    </tr>\n",
       "    <tr>\n",
       "      <th>1</th>\n",
       "      <td>Thu</td>\n",
       "      <td>18204</td>\n",
       "      <td>3849</td>\n",
       "      <td>0.211437</td>\n",
       "    </tr>\n",
       "    <tr>\n",
       "      <th>2</th>\n",
       "      <td>Sat</td>\n",
       "      <td>26</td>\n",
       "      <td>8</td>\n",
       "      <td>0.307692</td>\n",
       "    </tr>\n",
       "    <tr>\n",
       "      <th>3</th>\n",
       "      <td>Wed</td>\n",
       "      <td>14332</td>\n",
       "      <td>2832</td>\n",
       "      <td>0.197600</td>\n",
       "    </tr>\n",
       "    <tr>\n",
       "      <th>4</th>\n",
       "      <td>Tue</td>\n",
       "      <td>17821</td>\n",
       "      <td>3907</td>\n",
       "      <td>0.219236</td>\n",
       "    </tr>\n",
       "  </tbody>\n",
       "</table>\n",
       "</div>"
      ],
      "text/plain": [
       "  weekday  total  failures  fail_prop\n",
       "0     Mon  13243      2872   0.216869\n",
       "1     Thu  18204      3849   0.211437\n",
       "2     Sat     26         8   0.307692\n",
       "3     Wed  14332      2832   0.197600\n",
       "4     Tue  17821      3907   0.219236"
      ]
     },
     "execution_count": 153,
     "metadata": {},
     "output_type": "execute_result"
    }
   ],
   "source": [
    "day_fail_grp = failures[[\"Results\", \"inspection_dt\"]] \\\n",
    "    .groupby(date_format(failures[\"inspection_dt\"], 'E')) \\\n",
    "    .count() \\\n",
    "    .select(col(\"date_format(inspection_dt, E)\").alias(\"weekday\"), col(\"count\").alias(\"failures\"))\n",
    "\n",
    "day_all_grp = rest2[[\"Results\", \"inspection_dt\"]] \\\n",
    "    .groupby(date_format(rest2[\"inspection_dt\"], 'E')) \\\n",
    "    .count() \\\n",
    "    .select(col(\"date_format(inspection_dt, E)\").alias(\"weekday\"), col(\"count\").alias(\"total\"))\n",
    "\n",
    "df_by_day = day_all_grp.join(day_fail_grp, \"weekday\")\n",
    "df_by_day = df_by_day.withColumn(\"fail_prop\", df_by_day[\"failures\"]/df_by_day[\"total\"])\n",
    "\n",
    "df_by_day = df_by_day.toPandas()\n",
    "df_by_day.head()"
   ]
  },
  {
   "cell_type": "code",
   "execution_count": 155,
   "metadata": {
    "collapsed": false
   },
   "outputs": [
    {
     "data": {
      "text/plain": [
       "<matplotlib.text.Text at 0x11691a910>"
      ]
     },
     "execution_count": 155,
     "metadata": {},
     "output_type": "execute_result"
    },
    {
     "data": {
      "image/png": "[encoded data removed]",
      "text/plain": [
       "<matplotlib.figure.Figure at 0x1168b4bd0>"
      ]
     },
     "metadata": {},
     "output_type": "display_data"
    }
   ],
   "source": [
    "plt.bar(range(1,7),df_by_day[\"fail_prop\"], label=\"Failures\", color='#F1911E')\n",
    "plt.xticks(range(1,7), df_by_day[\"weekday\"])\n",
    "plt.legend(loc=\"best\")\n",
    "plt.title(\"Proportion of Failures by Day of Week\")"
   ]
  },
  {
   "cell_type": "markdown",
   "metadata": {},
   "source": [
    "Failures are highest on Saturday and lowest on Wednesday. That's interesting. We didn't include this in the model, but it might be interesting to add a feature for it in the future."
   ]
  },
  {
   "cell_type": "code",
   "execution_count": null,
   "metadata": {
    "collapsed": true
   },
   "outputs": [],
   "source": []
  }
 ],
 "metadata": {
  "anaconda-cloud": {},
  "kernelspec": {
   "display_name": "Python [conda root]",
   "language": "python",
   "name": "conda-root-py"
  },
  "language_info": {
   "codemirror_mode": {
    "name": "ipython",
    "version": 2
   },
   "file_extension": ".py",
   "mimetype": "text/x-python",
   "name": "python",
   "nbconvert_exporter": "python",
   "pygments_lexer": "ipython2",
   "version": "2.7.12"
  }
 },
 "nbformat": 4,
 "nbformat_minor": 1
}
